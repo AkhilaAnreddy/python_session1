{
 "cells": [
  {
   "cell_type": "markdown",
   "id": "bb8c9902",
   "metadata": {},
   "source": [
    "# functions"
   ]
  },
  {
   "cell_type": "markdown",
   "id": "87476707",
   "metadata": {},
   "source": [
    "- reuse any part of code"
   ]
  },
  {
   "cell_type": "markdown",
   "id": "c4275d67",
   "metadata": {},
   "source": [
    "**with out arguments**"
   ]
  },
  {
   "cell_type": "code",
   "execution_count": 1,
   "id": "2b161676",
   "metadata": {},
   "outputs": [
    {
     "name": "stdout",
     "output_type": "stream",
     "text": [
      "the addition of 10 and 20 is 30\n"
     ]
    }
   ],
   "source": [
    "n1=10\n",
    "n2=20\n",
    "add=n1+n2\n",
    "print(\"the addition of {} and {} is {}\".format(n1,n2,add))"
   ]
  },
  {
   "cell_type": "code",
   "execution_count": null,
   "id": "fda5bc37",
   "metadata": {},
   "outputs": [],
   "source": [
    "def <function_name>():\n",
    "    # write your code here"
   ]
  },
  {
   "cell_type": "code",
   "execution_count": 2,
   "id": "f5025585",
   "metadata": {},
   "outputs": [],
   "source": [
    "def addition():\n",
    "    n1=10\n",
    "    n2=20\n",
    "    add=n1+n2\n",
    "    print(\"the addition of {} and {} is {}\".format(n1,n2,add))"
   ]
  },
  {
   "cell_type": "code",
   "execution_count": 3,
   "id": "ed9ec66b",
   "metadata": {},
   "outputs": [
    {
     "name": "stdout",
     "output_type": "stream",
     "text": [
      "the addition of 10 and 20 is 30\n"
     ]
    }
   ],
   "source": [
    "# the output will not display untill unless you call the function\n",
    "addition()"
   ]
  },
  {
   "cell_type": "code",
   "execution_count": 4,
   "id": "1e9e0f33",
   "metadata": {},
   "outputs": [
    {
     "name": "stdout",
     "output_type": "stream",
     "text": [
      "enter number:14\n",
      "hello\n",
      "im writing function\n"
     ]
    }
   ],
   "source": [
    "def hello():\n",
    "    n1=eval(input('enter number:'))\n",
    "    print('hello')\n",
    "    print('im writing function')\n",
    "hello()"
   ]
  },
  {
   "cell_type": "code",
   "execution_count": 6,
   "id": "f62eb11b",
   "metadata": {},
   "outputs": [
    {
     "name": "stdout",
     "output_type": "stream",
     "text": [
      "200\n"
     ]
    }
   ],
   "source": [
    "# but how did python execute 2nd and not 1st function.\n",
    "a=100\n",
    "a=200\n",
    "print(a)"
   ]
  },
  {
   "cell_type": "code",
   "execution_count": null,
   "id": "a8198205",
   "metadata": {},
   "outputs": [],
   "source": [
    "# why a is not equal to 100\n",
    "# python will take latest value"
   ]
  },
  {
   "cell_type": "code",
   "execution_count": 7,
   "id": "ddb85f50",
   "metadata": {},
   "outputs": [
    {
     "name": "stdout",
     "output_type": "stream",
     "text": [
      "hello good morning\n"
     ]
    }
   ],
   "source": [
    "def hello_world():\n",
    "    print('hello good morning')\n",
    "hello_world()"
   ]
  },
  {
   "cell_type": "code",
   "execution_count": 8,
   "id": "30f136b9",
   "metadata": {},
   "outputs": [
    {
     "name": "stdout",
     "output_type": "stream",
     "text": [
      "enter number1:40\n",
      "enter number2:41\n",
      "enter number3:44\n",
      "the average of 40,41 and 44 is 41.666666666666664\n"
     ]
    }
   ],
   "source": [
    "# take three numbers find the average\n",
    "# WAP ask the user enter 3 numbers\n",
    "# n1=eval(input())\n",
    "# n2=eval(input())\n",
    "# n3=eval(input())\n",
    "# avg=(n1+n2+n3)/3\n",
    "# first write normal code\n",
    "# then implement the function\n",
    "\n",
    "num1=eval(input(\"enter number1:\"))\n",
    "num2=eval(input(\"enter number2:\"))\n",
    "num3=eval(input(\"enter number3:\"))\n",
    "avg=(num1+num2+num3)/3\n",
    "print(\"the average of {},{} and {} is {}\".format(num1,num2,num3,avg))"
   ]
  },
  {
   "cell_type": "code",
   "execution_count": 9,
   "id": "bacd77eb",
   "metadata": {},
   "outputs": [
    {
     "name": "stdout",
     "output_type": "stream",
     "text": [
      "enter number1:1\n",
      "enter number2:4\n",
      "enter number3:10\n",
      "the average of 1,4 and 10 is 5.0\n"
     ]
    }
   ],
   "source": [
    "def avg():\n",
    "    num1=eval(input(\"enter number1:\"))\n",
    "    num2=eval(input(\"enter number2:\"))\n",
    "    num3=eval(input(\"enter number3:\"))\n",
    "    avg=(num1+num2+num3)/3\n",
    "    print(\"the average of {},{} and {} is {}\".format(num1,num2,num3,avg))\n",
    "avg()"
   ]
  },
  {
   "cell_type": "code",
   "execution_count": 10,
   "id": "0c643fae",
   "metadata": {},
   "outputs": [
    {
     "name": "stdout",
     "output_type": "stream",
     "text": [
      "enter number1:11\n",
      "enter number2:12\n",
      "enter number3:13\n",
      "the average of 11,12 and 13 is 12.0\n"
     ]
    }
   ],
   "source": [
    "try:\n",
    "    num1=eval(input(\"enter number1:\"))\n",
    "    num2=eval(input(\"enter number2:\"))\n",
    "    num3=eval(input(\"enter number3:\"))\n",
    "    avg=(num1+num2+num3)/3\n",
    "    print(\"the average of {},{} and {} is {}\".format(num1,num2,num3,avg))\n",
    "except Exception as e:\n",
    "    print(e)"
   ]
  },
  {
   "cell_type": "code",
   "execution_count": 12,
   "id": "208ece43",
   "metadata": {},
   "outputs": [
    {
     "name": "stdout",
     "output_type": "stream",
     "text": [
      "enter number1:18\n",
      "enter number2:19\n",
      "enter number3:21\n",
      "name 'num3333' is not defined\n"
     ]
    }
   ],
   "source": [
    "def avg1():\n",
    "    try:\n",
    "        num1=eval(input(\"enter number1:\"))\n",
    "        num2=eval(input(\"enter number2:\"))\n",
    "        num3=eval(input(\"enter number3:\"))\n",
    "        avg=(num1+num2+num3333)/3\n",
    "        print(\"the average of {},{} and {} is {}\".format(num1,num2,num3,avg))\n",
    "    except Exception as e:\n",
    "        print(e)\n",
    "avg1()"
   ]
  },
  {
   "cell_type": "code",
   "execution_count": 13,
   "id": "aa7753a5",
   "metadata": {},
   "outputs": [
    {
     "name": "stdout",
     "output_type": "stream",
     "text": [
      "enter Bill amount:24\n",
      "enter Tip amount:31\n",
      "total Bill is 55\n"
     ]
    }
   ],
   "source": [
    "# WAP ask the user enter bill amount\n",
    "#    ask the user enter tip amount\n",
    "#    calculate total bill\n",
    "# first write normal code\n",
    "# then implement the function\n",
    "\n",
    "def Bill():\n",
    "    try:\n",
    "        Bill_amount=eval(input(\"enter Bill amount:\"))\n",
    "        Tip_amount=eval(input(\"enter Tip amount:\"))\n",
    "        Total_Bill=Bill_amount+Tip_amount\n",
    "        print(\"total Bill is {}\".format(Total_Bill))\n",
    "    except exception as e:\n",
    "        print(e)\n",
    "Bill()"
   ]
  },
  {
   "cell_type": "code",
   "execution_count": 14,
   "id": "077ad2d1",
   "metadata": {},
   "outputs": [
    {
     "name": "stdout",
     "output_type": "stream",
     "text": [
      "87 is an odd number\n"
     ]
    }
   ],
   "source": [
    "# wap ask the user get a random number between 1 to 100\n",
    "# print it is even or odd number\n",
    "# implement using function\n",
    "# import <package>\n",
    "# num=<package>.<method_name>(1,100)\n",
    "# if <condition>:\n",
    "#    print(\"{} is an even number\".format(num))\n",
    "# else:\n",
    "#    print(\"{} is an odd number\".format(num))\n",
    "\n",
    "import random\n",
    "num=random.randint(1,100)\n",
    "if num%2==0:\n",
    "    print(\"{} is an even number\".format(num))\n",
    "else:\n",
    "    print(\"{} is an odd number\".format(num))"
   ]
  },
  {
   "cell_type": "code",
   "execution_count": 15,
   "id": "8f5c41fc",
   "metadata": {},
   "outputs": [
    {
     "name": "stdout",
     "output_type": "stream",
     "text": [
      "we are implementing even odd functions\n",
      "take one number\n",
      "the remainder is not equal to zero\n",
      "43 is an odd number\n"
     ]
    }
   ],
   "source": [
    "import random\n",
    "def even_odd1():\n",
    "    print('we are implementing even odd functions')\n",
    "    print('take one number')\n",
    "    num=random.randint(1,100)\n",
    "    if num%2==0:\n",
    "        print('the remainder is zero')\n",
    "        print('{} is an even number'.format(num))\n",
    "    else:\n",
    "        print('the remainder is not equal to zero')\n",
    "        print('{} is an odd number'.format(num))\n",
    "even_odd1()"
   ]
  },
  {
   "cell_type": "code",
   "execution_count": 16,
   "id": "cde64cc1",
   "metadata": {},
   "outputs": [
    {
     "name": "stdout",
     "output_type": "stream",
     "text": [
      "we are implementing even odd functions\n",
      "take one number\n",
      "the remainder is zero\n",
      "8 is an even number\n"
     ]
    }
   ],
   "source": [
    "import random\n",
    "def even_odd1():\n",
    "    try:\n",
    "        print('we are implementing even odd functions')\n",
    "        print('take one number')\n",
    "        num=random.randint(1,100)\n",
    "        if num%2==0:\n",
    "            print('the remainder is zero')\n",
    "            print('{} is an even number'.format(num))\n",
    "        else:\n",
    "            print('the remainder is not equal to zero')\n",
    "            print('{} is an odd number'.format(num))\n",
    "    except exception as e:\n",
    "        print(e)\n",
    "even_odd1()"
   ]
  },
  {
   "cell_type": "code",
   "execution_count": 17,
   "id": "2ac8a5c5",
   "metadata": {},
   "outputs": [
    {
     "name": "stdout",
     "output_type": "stream",
     "text": [
      "hello\n",
      "python\n",
      "calling function\n",
      "we are implementing even odd functions\n",
      "take one number\n",
      "the remainder is not equal to zero\n",
      "87 is an odd number\n",
      "done!\n"
     ]
    }
   ],
   "source": [
    "import random\n",
    "print('hello')\n",
    "print(\"python\")\n",
    "def even_odd2():\n",
    "    try:\n",
    "        print('we are implementing even odd functions')\n",
    "        print('take one number')\n",
    "        num=random.randint(1,100)\n",
    "        if num%2==0:\n",
    "            print('the remainder is zero')\n",
    "            print('{} is an even number'.format(num))\n",
    "        else:\n",
    "            print('the remainder is not equal to zero')\n",
    "            print('{} is an odd number'.format(num))\n",
    "    except exception as e:\n",
    "        print(e)\n",
    "print('calling function')\n",
    "even_odd2()\n",
    "print('done!')"
   ]
  },
  {
   "cell_type": "code",
   "execution_count": 19,
   "id": "02dc937e",
   "metadata": {},
   "outputs": [
    {
     "name": "stdout",
     "output_type": "stream",
     "text": [
      "mul function starts\n",
      "sub function starts\n",
      "anything remains\n",
      "no\n",
      "then call the function\n",
      "sub: -6\n",
      "subtraction is done\n",
      "mul: 1360\n",
      "mul is done\n",
      "addition: 74\n"
     ]
    }
   ],
   "source": [
    "def addition():\n",
    "    n1=34\n",
    "    n2=40\n",
    "    print('addition:',n1+n2)\n",
    "    \n",
    "print(\"mul function starts\")\n",
    "def mul():\n",
    "    n1=34\n",
    "    n2=40\n",
    "    print('mul:',n1*n2)\n",
    "    print('mul is done')\n",
    "    \n",
    "print(\"sub function starts\")\n",
    "def sub():\n",
    "    n1=34\n",
    "    n2=40\n",
    "    print('sub:',n1-n2)\n",
    "    print('subtraction is done')\n",
    "    \n",
    "print(\"anything remains\")\n",
    "print(\"no\")\n",
    "print(\"then call the function\")\n",
    "sub()\n",
    "mul()\n",
    "addition()"
   ]
  },
  {
   "cell_type": "markdown",
   "id": "bd6b8661",
   "metadata": {},
   "source": [
    "- if yoy are not mentioning any values inside the function bracket\n",
    "- with out arguments or with out parameters\n",
    "- arguments or parameters"
   ]
  },
  {
   "cell_type": "markdown",
   "id": "1a8ae096",
   "metadata": {},
   "source": [
    "**with arguments**"
   ]
  },
  {
   "cell_type": "code",
   "execution_count": 20,
   "id": "04d257af",
   "metadata": {},
   "outputs": [
    {
     "name": "stdout",
     "output_type": "stream",
     "text": [
      "the addition of 41 and 42 is 83\n"
     ]
    }
   ],
   "source": [
    "def addition(n1,n2):        # arguments\n",
    "    add=n1+n2\n",
    "    print(\"the addition of {} and {} is {}\".format(n1,n2,add))\n",
    "addition(41,42)"
   ]
  },
  {
   "cell_type": "code",
   "execution_count": 28,
   "id": "84bd6d82",
   "metadata": {},
   "outputs": [
    {
     "ename": "TypeError",
     "evalue": "addition11() takes 0 positional arguments but 2 were given",
     "output_type": "error",
     "traceback": [
      "\u001b[1;31m---------------------------------------------------------------------------\u001b[0m",
      "\u001b[1;31mTypeError\u001b[0m                                 Traceback (most recent call last)",
      "Cell \u001b[1;32mIn[28], line 4\u001b[0m\n\u001b[0;32m      2\u001b[0m     add\u001b[38;5;241m=\u001b[39mn11\u001b[38;5;241m+\u001b[39mn22\n\u001b[0;32m      3\u001b[0m     \u001b[38;5;28mprint\u001b[39m(\u001b[38;5;124m\"\u001b[39m\u001b[38;5;124mthe addition of \u001b[39m\u001b[38;5;132;01m{}\u001b[39;00m\u001b[38;5;124m and \u001b[39m\u001b[38;5;132;01m{}\u001b[39;00m\u001b[38;5;124m is \u001b[39m\u001b[38;5;132;01m{}\u001b[39;00m\u001b[38;5;124m\"\u001b[39m\u001b[38;5;241m.\u001b[39mformat(n1,n2,add))\n\u001b[1;32m----> 4\u001b[0m addition11(\u001b[38;5;241m43\u001b[39m,\u001b[38;5;241m44\u001b[39m)\n",
      "\u001b[1;31mTypeError\u001b[0m: addition11() takes 0 positional arguments but 2 were given"
     ]
    }
   ],
   "source": [
    "def addition11():        # arguments\n",
    "    add=n11+n22\n",
    "    print(\"the addition of {} and {} is {}\".format(n1,n2,add))\n",
    "addition11(43,44)"
   ]
  },
  {
   "cell_type": "code",
   "execution_count": 29,
   "id": "fa8a17e1",
   "metadata": {},
   "outputs": [
    {
     "name": "stdout",
     "output_type": "stream",
     "text": [
      "num1: 46\n",
      "num2: 47\n",
      "num3: 48\n",
      "the average of 46,47 and 48 is 47.0\n"
     ]
    }
   ],
   "source": [
    "# implement below code using with arguments\n",
    "def avg(num1,num2,num3):\n",
    "    print(\"num1:\",num1)\n",
    "    print(\"num2:\",num2)\n",
    "    print(\"num3:\",num3)\n",
    "    avg=(num1+num2+num3)/3\n",
    "    print(\"the average of {},{} and {} is {}\".format(num1,num2,num3,avg))\n",
    "avg(46,47,48)"
   ]
  },
  {
   "cell_type": "code",
   "execution_count": 30,
   "id": "4ab2c41a",
   "metadata": {},
   "outputs": [
    {
     "data": {
      "text/plain": [
       "12"
      ]
     },
     "execution_count": 30,
     "metadata": {},
     "output_type": "execute_result"
    }
   ],
   "source": [
    "num=12345\n",
    "v1=num%10     # 5\n",
    "v11=num//100\n",
    "v11           # 1234\n",
    "\n",
    "v2=v11%10    # 4\n",
    "v2\n",
    "v22=v11//10   # 123\n",
    "v22\n",
    "\n",
    "# 12345 ==== 1234 ==== 4\n",
    "# 54321"
   ]
  },
  {
   "cell_type": "code",
   "execution_count": 31,
   "id": "0b562a42",
   "metadata": {},
   "outputs": [
    {
     "data": {
      "text/plain": [
       "45"
      ]
     },
     "execution_count": 31,
     "metadata": {},
     "output_type": "execute_result"
    }
   ],
   "source": [
    "num=12345\n",
    "v1=num%100\n",
    "v1"
   ]
  },
  {
   "cell_type": "code",
   "execution_count": 32,
   "id": "db2d4711",
   "metadata": {},
   "outputs": [
    {
     "data": {
      "text/plain": [
       "1234"
      ]
     },
     "execution_count": 32,
     "metadata": {},
     "output_type": "execute_result"
    }
   ],
   "source": [
    "v11=num//10\n",
    "v11"
   ]
  },
  {
   "cell_type": "code",
   "execution_count": 33,
   "id": "90ffedde",
   "metadata": {},
   "outputs": [
    {
     "data": {
      "text/plain": [
       "5"
      ]
     },
     "execution_count": 33,
     "metadata": {},
     "output_type": "execute_result"
    }
   ],
   "source": [
    "12345%10"
   ]
  },
  {
   "cell_type": "code",
   "execution_count": 34,
   "id": "045d349a",
   "metadata": {},
   "outputs": [
    {
     "name": "stdout",
     "output_type": "stream",
     "text": [
      "54\n"
     ]
    }
   ],
   "source": [
    "print(5,end='')\n",
    "print(4)"
   ]
  },
  {
   "cell_type": "code",
   "execution_count": 35,
   "id": "05fca445",
   "metadata": {},
   "outputs": [
    {
     "data": {
      "text/plain": [
       "1234"
      ]
     },
     "execution_count": 35,
     "metadata": {},
     "output_type": "execute_result"
    }
   ],
   "source": [
    "12345//10"
   ]
  },
  {
   "cell_type": "code",
   "execution_count": 36,
   "id": "d397498f",
   "metadata": {},
   "outputs": [
    {
     "data": {
      "text/plain": [
       "61"
      ]
     },
     "execution_count": 36,
     "metadata": {},
     "output_type": "execute_result"
    }
   ],
   "source": [
    "49\n",
    "61"
   ]
  },
  {
   "cell_type": "code",
   "execution_count": 37,
   "id": "dba31831",
   "metadata": {},
   "outputs": [
    {
     "name": "stdout",
     "output_type": "stream",
     "text": [
      "Enter Bill amount64\n",
      "Enter Tip amount71\n",
      "Total Bill is 135\n"
     ]
    }
   ],
   "source": [
    "def Bill():\n",
    "    try:\n",
    "        Bill_Amt= eval(input(\"Enter Bill amount\"))\n",
    "        Tip_Amt= eval(input(\"Enter Tip amount\"))\n",
    "        Total_Bill = Bill_Amt+Tip_Amt\n",
    "        print(\"Total Bill is {}\".format(Total_Bill))\n",
    "    except exception as e:\n",
    "        print(e)\n",
    "Bill()"
   ]
  },
  {
   "cell_type": "code",
   "execution_count": 39,
   "id": "a6591d85",
   "metadata": {},
   "outputs": [
    {
     "name": "stdout",
     "output_type": "stream",
     "text": [
      "Total Bill is 155\n"
     ]
    }
   ],
   "source": [
    "def Bill(Bill_Amt,Tip_Amt):\n",
    "    try:\n",
    "        Total_Bill = Bill_Amt+Tip_Amt\n",
    "        print(\"Total Bill is {}\".format(Total_Bill))\n",
    "    except exception as e:\n",
    "        print(e)\n",
    "Bill(74,81)"
   ]
  },
  {
   "cell_type": "code",
   "execution_count": 40,
   "id": "ff5a02f4",
   "metadata": {},
   "outputs": [
    {
     "name": "stdout",
     "output_type": "stream",
     "text": [
      "enter a number:84\n",
      "the square of 84 is 7056\n"
     ]
    }
   ],
   "source": [
    "# WAP ask the user enter number\n",
    "# and find the square of the number\n",
    "\n",
    "# m-1:write in normal ways\n",
    "# m-2:write in function with out argument\n",
    "# m-3:write in function with argument\n",
    "\n",
    "number=eval(input(\"enter a number:\"))\n",
    "print(\"the square of {} is {}\".format(number,number*number))"
   ]
  },
  {
   "cell_type": "code",
   "execution_count": 41,
   "id": "b26c2ab5",
   "metadata": {},
   "outputs": [
    {
     "name": "stdout",
     "output_type": "stream",
     "text": [
      "enter a number:91\n",
      "the square of 91 is 8281\n"
     ]
    }
   ],
   "source": [
    "def square():\n",
    "    number=eval(input(\"enter a number:\"))\n",
    "    print(\"the square of {} is {}\". format(number,number*number))\n",
    "square()"
   ]
  },
  {
   "cell_type": "code",
   "execution_count": 42,
   "id": "b28f6a4f",
   "metadata": {},
   "outputs": [
    {
     "name": "stdout",
     "output_type": "stream",
     "text": [
      "the square of 94 is 8836\n"
     ]
    }
   ],
   "source": [
    "def square(number):\n",
    "    print(\"the square of {} is {}\".format(number,number*number))\n",
    "square(94)"
   ]
  },
  {
   "cell_type": "code",
   "execution_count": 43,
   "id": "1b3f4126",
   "metadata": {},
   "outputs": [
    {
     "name": "stdout",
     "output_type": "stream",
     "text": [
      "enter number:1\n",
      "you lost\n"
     ]
    }
   ],
   "source": [
    "# wap ask there user\n",
    "# get one random number between 1 to 20\n",
    "# enter a number\n",
    "# compare these two number\n",
    "# if both are same:print(\"you won\")\n",
    "# else:print(\"lost\")\n",
    "\n",
    "# m-1:write in normal way\n",
    "# m-2:create a function with out argument\n",
    "# m-3:create a function with argument\n",
    "\n",
    "# m-1:\n",
    "import random\n",
    "random_num=random.randint(1,20)\n",
    "num=eval(input(\"enter number:\"))\n",
    "if random_num==num:\n",
    "    print(\"you won\")\n",
    "else:\n",
    "    print(\"you lost\")"
   ]
  },
  {
   "cell_type": "code",
   "execution_count": 44,
   "id": "f577c875",
   "metadata": {},
   "outputs": [
    {
     "name": "stdout",
     "output_type": "stream",
     "text": [
      "enter number:4\n",
      "you lost becouse the random number is: 10\n"
     ]
    }
   ],
   "source": [
    "# m-2:\n",
    "import random\n",
    "def compare():\n",
    "    random_num=random.randint(1,20)\n",
    "    num=eval(input(\"enter number:\"))\n",
    "    if random_num==num:\n",
    "        print(\"you won\")\n",
    "    else:\n",
    "        print(\"you lost becouse the random number is:\",random_num)\n",
    "compare()"
   ]
  },
  {
   "cell_type": "code",
   "execution_count": 45,
   "id": "ccd51ae6",
   "metadata": {},
   "outputs": [
    {
     "name": "stdout",
     "output_type": "stream",
     "text": [
      "enter number:10\n",
      "you lost becouse the random number is: 3\n"
     ]
    }
   ],
   "source": [
    "# m-3:\n",
    "import random\n",
    "def compare(num):\n",
    "    random_num=random.randint(1,20)\n",
    "    if random_num==num:\n",
    "        print(\"you won\")\n",
    "    else:\n",
    "        print(\"you lost becouse the random number is:\",random_num)\n",
    "compare(eval(input(\"enter number:\")))        # keyboard pass"
   ]
  },
  {
   "cell_type": "code",
   "execution_count": 46,
   "id": "a2881737",
   "metadata": {},
   "outputs": [
    {
     "name": "stdout",
     "output_type": "stream",
     "text": [
      "you lost becouse the random number is: 7\n"
     ]
    }
   ],
   "source": [
    "import random\n",
    "def compare(num):\n",
    "    random_num=random.randint(1,20)\n",
    "    if random_num==num:\n",
    "        print(\"you won\")\n",
    "    else:\n",
    "        print(\"you lost becouse the random number is:\",random_num)\n",
    "compare(11)        # direct pass"
   ]
  },
  {
   "cell_type": "code",
   "execution_count": 47,
   "id": "8343b891",
   "metadata": {},
   "outputs": [
    {
     "name": "stdout",
     "output_type": "stream",
     "text": [
      "you lost becouse the random number is: 4\n"
     ]
    }
   ],
   "source": [
    "import random\n",
    "def compare(num):\n",
    "    random_num=random.randint(1,20)\n",
    "    if random_num==num:\n",
    "        print(\"you won\")\n",
    "    else:\n",
    "        print(\"you lost becouse the random number is:\",random_num)\n",
    "value=12\n",
    "compare(value)        # direct pass"
   ]
  },
  {
   "cell_type": "code",
   "execution_count": 48,
   "id": "b258a892",
   "metadata": {},
   "outputs": [
    {
     "name": "stdout",
     "output_type": "stream",
     "text": [
      "enter number:13\n",
      "you lost becouse the random number is: 7\n"
     ]
    }
   ],
   "source": [
    "import random\n",
    "def compare(random_num,num):\n",
    "    if random_num==num:\n",
    "        print(\"you won\")\n",
    "    else:\n",
    "        print(\"you lost becouse the random number is:\",random_num)\n",
    "value_random=random.randint(1,20)\n",
    "value=eval(input(\"enter number:\"))\n",
    "compare(value_random,value)"
   ]
  },
  {
   "cell_type": "code",
   "execution_count": 49,
   "id": "dc2151dc",
   "metadata": {},
   "outputs": [
    {
     "name": "stdout",
     "output_type": "stream",
     "text": [
      "enter number:14\n",
      "you lost becouse the random number is: 11\n"
     ]
    }
   ],
   "source": [
    "# step-1:import random\n",
    "# step-2:function will define:not give\n",
    "# step-3:value_random\n",
    "# step-4:value\n",
    "# step-5:calling the function ====> step-2:print won/loss\n",
    "\n",
    "import random\n",
    "value_random=random.randint(1,20)\n",
    "value=eval(input(\"enter number:\"))\n",
    "def compare(random_num,num):\n",
    "    if random_num==num:\n",
    "        print(\"you won\")\n",
    "    else:\n",
    "        print(\"you lost becouse the random number is:\",random_num)\n",
    "compare(value_random,value)"
   ]
  },
  {
   "cell_type": "code",
   "execution_count": 50,
   "id": "9afa5037",
   "metadata": {},
   "outputs": [
    {
     "data": {
      "text/plain": [
       "20"
      ]
     },
     "execution_count": 50,
     "metadata": {},
     "output_type": "execute_result"
    }
   ],
   "source": [
    "import random\n",
    "random.randint(1,20)"
   ]
  },
  {
   "cell_type": "code",
   "execution_count": 51,
   "id": "19a99ef5",
   "metadata": {},
   "outputs": [
    {
     "data": {
      "text/plain": [
       "16"
      ]
     },
     "execution_count": 51,
     "metadata": {},
     "output_type": "execute_result"
    }
   ],
   "source": [
    "from random import randint\n",
    "randint(1,20)"
   ]
  },
  {
   "cell_type": "code",
   "execution_count": 53,
   "id": "b1c5bc04",
   "metadata": {},
   "outputs": [
    {
     "name": "stdout",
     "output_type": "stream",
     "text": [
      "enter number:16\n",
      "you lost becouse the random number is: 20\n"
     ]
    }
   ],
   "source": [
    "import random\n",
    "\n",
    "#################### defined ###################\n",
    "num=eval(input(\"enter number:\"))\n",
    "def megha(random_num,num):\n",
    "    if random_num==num:\n",
    "        print(\"you won\")\n",
    "    else:\n",
    "        print(\"you lost becouse the random number is:\",random_num)\n",
    "        \n",
    "################## calling ####################\n",
    "megha(20,10)"
   ]
  },
  {
   "cell_type": "code",
   "execution_count": 57,
   "id": "720f94e5",
   "metadata": {},
   "outputs": [
    {
     "name": "stdout",
     "output_type": "stream",
     "text": [
      "enter a number:1\n",
      "you are not a winner\n"
     ]
    }
   ],
   "source": [
    "import random\n",
    "def compare(user_num,ran_num):\n",
    "    try:\n",
    "        if ran_num==user_num:\n",
    "            print(\"you won\")\n",
    "        else:\n",
    "            print(\"you are not a winner\")\n",
    "    except exception as e:\n",
    "        print(e)\n",
    "        \n",
    "# user_num=eval(input(\"enter number\"))\n",
    "# ran_num=random.randint(1,20)\n",
    "# compare(user_num,ran_num)\n",
    "\n",
    "compare(eval(input(\"enter a number:\")),\n",
    "        random.randint(1,20))"
   ]
  },
  {
   "cell_type": "code",
   "execution_count": 58,
   "id": "1822fae6",
   "metadata": {},
   "outputs": [
    {
     "name": "stdout",
     "output_type": "stream",
     "text": [
      "the total tax is: 1000.0\n"
     ]
    }
   ],
   "source": [
    "# wap ask the user enter salary\n",
    "#     ask the user enter tax percentage\n",
    "#     calculate total tax to pay\n",
    "\n",
    "def tax_cal(salary,tax_per):\n",
    "    total_tax=salary*tax_per/100\n",
    "    print(\"the total tax is:\",total_tax)\n",
    "tax_cal(10000,10)        # direct pass"
   ]
  },
  {
   "cell_type": "code",
   "execution_count": 59,
   "id": "75a0d397",
   "metadata": {},
   "outputs": [
    {
     "name": "stdout",
     "output_type": "stream",
     "text": [
      "enter salary:1000000\n",
      "enter tax percentage:10\n",
      "the total tax is: 100000.0\n"
     ]
    }
   ],
   "source": [
    "def tax_cal(salary,tax_per):\n",
    "    total_tax=salary*tax_per/100\n",
    "    print(\"the total tax is:\",total_tax)\n",
    "val1=eval(input(\"enter salary:\"))\n",
    "val2=eval(input(\"enter tax percentage:\"))\n",
    "tax_cal(val1,val2)        # keyboard pass"
   ]
  },
  {
   "cell_type": "markdown",
   "id": "f18cf4d2",
   "metadata": {},
   "source": [
    "**default arguments**"
   ]
  },
  {
   "cell_type": "code",
   "execution_count": 60,
   "id": "1eb66e4c",
   "metadata": {},
   "outputs": [
    {
     "name": "stdout",
     "output_type": "stream",
     "text": [
      "the total tax is: 2000.0\n"
     ]
    }
   ],
   "source": [
    "# tax percentage is always=20\n",
    "# fixed\n",
    "# default parameter\n",
    "\n",
    "def tax_cal(salary,tax_per=20):\n",
    "    total_tax=salary*tax_per/100\n",
    "    print(\"the total tax is:\",total_tax)\n",
    "tax_cal(10000)"
   ]
  },
  {
   "cell_type": "code",
   "execution_count": 61,
   "id": "9f2db2bd",
   "metadata": {},
   "outputs": [
    {
     "name": "stdout",
     "output_type": "stream",
     "text": [
      "the avg is: 25.333333333333332\n"
     ]
    }
   ],
   "source": [
    "def avg(num1,num2,num3):\n",
    "    add=(num1+num2+num3)\n",
    "    avg=add/3\n",
    "    print(\"the avg is:\",avg)\n",
    "avg(21,24,31)"
   ]
  },
  {
   "cell_type": "code",
   "execution_count": 62,
   "id": "42cb879f",
   "metadata": {},
   "outputs": [
    {
     "name": "stdout",
     "output_type": "stream",
     "text": [
      "num1: 40\n",
      "num2: 41\n",
      "num3: 34\n",
      "the avg is: 38.333333333333336\n"
     ]
    }
   ],
   "source": [
    "def avg(num1,num2,num3=34):\n",
    "    print(\"num1:\",num1)\n",
    "    print(\"num2:\",num2)\n",
    "    print(\"num3:\",num3)\n",
    "    add=(num1+num2+num3)\n",
    "    avg=add/3\n",
    "    print(\"the avg is:\",avg)\n",
    "avg(40,41)"
   ]
  },
  {
   "cell_type": "code",
   "execution_count": 63,
   "id": "a47ccca3",
   "metadata": {},
   "outputs": [
    {
     "ename": "SyntaxError",
     "evalue": "non-default argument follows default argument (4217983288.py, line 1)",
     "output_type": "error",
     "traceback": [
      "\u001b[1;36m  Cell \u001b[1;32mIn[63], line 1\u001b[1;36m\u001b[0m\n\u001b[1;33m    def avg(num1,num2=42,num3):\u001b[0m\n\u001b[1;37m                         ^\u001b[0m\n\u001b[1;31mSyntaxError\u001b[0m\u001b[1;31m:\u001b[0m non-default argument follows default argument\n"
     ]
    }
   ],
   "source": [
    "def avg(num1,num2=42,num3):\n",
    "    print(\"num1:\",num1)\n",
    "    print(\"num2:\",num2)\n",
    "    print(\"num3:\",num3)\n",
    "    add=(num1+num2+num3)\n",
    "    avg=add/3\n",
    "    print(\"the avg is:\",avg)\n",
    "avg(40,41)"
   ]
  },
  {
   "cell_type": "code",
   "execution_count": 66,
   "id": "64b19efe",
   "metadata": {},
   "outputs": [
    {
     "name": "stdout",
     "output_type": "stream",
     "text": [
      "num1: 43\n",
      "num2: 44\n",
      "num3: 34\n",
      "the avg is: 40.333333333333336\n"
     ]
    }
   ],
   "source": [
    "def avg(num1,num2,num3=34):\n",
    "    print(\"num1:\",num1)\n",
    "    print(\"num2:\",num2)\n",
    "    print(\"num3:\",num3)\n",
    "    add=(num1+num2+num3)\n",
    "    avg=add/3\n",
    "    print(\"the avg is:\",avg)\n",
    "val1=43\n",
    "val2=44\n",
    "avg(val1,val2)"
   ]
  },
  {
   "cell_type": "code",
   "execution_count": 67,
   "id": "3e1837bf",
   "metadata": {},
   "outputs": [
    {
     "ename": "TypeError",
     "evalue": "cannot unpack non-iterable int object",
     "output_type": "error",
     "traceback": [
      "\u001b[1;31m---------------------------------------------------------------------------\u001b[0m",
      "\u001b[1;31mTypeError\u001b[0m                                 Traceback (most recent call last)",
      "Cell \u001b[1;32mIn[67], line 1\u001b[0m\n\u001b[1;32m----> 1\u001b[0m num1,num2,num3\u001b[38;5;241m=\u001b[39m\u001b[38;5;241m46\u001b[39m\n\u001b[0;32m      2\u001b[0m \u001b[38;5;28mprint\u001b[39m(num1,num2,num3)\n",
      "\u001b[1;31mTypeError\u001b[0m: cannot unpack non-iterable int object"
     ]
    }
   ],
   "source": [
    "num1,num2,num3=46\n",
    "print(num1,num2,num3)"
   ]
  },
  {
   "cell_type": "code",
   "execution_count": null,
   "id": "e45a3a0b",
   "metadata": {},
   "outputs": [],
   "source": [
    "num1,num2,num3=47 ==== valid\n",
    "num1,num2=48,num3 ==== not valid\n",
    "num1=49,num2=61,num3 ==== not valid\n",
    "num1=64,num2,num3 ==== not valid\n",
    "num1,num1=71,num2=74 ==== valid"
   ]
  },
  {
   "cell_type": "code",
   "execution_count": 68,
   "id": "ee5300d5",
   "metadata": {},
   "outputs": [
    {
     "name": "stdout",
     "output_type": "stream",
     "text": [
      "num1: 91\n",
      "num2: 94\n",
      "num3: 1\n",
      "the avg is: 89.66666666666667\n"
     ]
    }
   ],
   "source": [
    "def avg(num1,num2,num3=81):\n",
    "    print(\"num1:\",num1)\n",
    "    print(\"num2:\",num2)\n",
    "    print(\"num3:\",num3)\n",
    "    num3=84\n",
    "    add=(num1+num2+num3)\n",
    "    avg=add/3\n",
    "    print(\"the avg is:\",avg)\n",
    "avg(91,94,1)\n",
    "\n",
    "# while defining function:num3=81\n",
    "# while you are calling function num3=84\n",
    "# after enter inside the function num3=1"
   ]
  },
  {
   "cell_type": "markdown",
   "id": "cfbf33a0",
   "metadata": {},
   "source": [
    "- with out arguments\n",
    "- with arguments\n",
    "- default arguments"
   ]
  },
  {
   "cell_type": "code",
   "execution_count": 1,
   "id": "8d1dda05",
   "metadata": {},
   "outputs": [
    {
     "ename": "TypeError",
     "evalue": "Random.randint() missing 2 required positional arguments: 'a' and 'b'",
     "output_type": "error",
     "traceback": [
      "\u001b[1;31m---------------------------------------------------------------------------\u001b[0m",
      "\u001b[1;31mTypeError\u001b[0m                                 Traceback (most recent call last)",
      "Cell \u001b[1;32mIn[1], line 2\u001b[0m\n\u001b[0;32m      1\u001b[0m \u001b[38;5;28;01mimport\u001b[39;00m \u001b[38;5;21;01mrandom\u001b[39;00m\n\u001b[1;32m----> 2\u001b[0m random\u001b[38;5;241m.\u001b[39mrandint()\n",
      "\u001b[1;31mTypeError\u001b[0m: Random.randint() missing 2 required positional arguments: 'a' and 'b'"
     ]
    }
   ],
   "source": [
    "import random\n",
    "random.randint()"
   ]
  },
  {
   "cell_type": "code",
   "execution_count": 2,
   "id": "33e945db",
   "metadata": {},
   "outputs": [
    {
     "data": {
      "text/plain": [
       "(7+0j)"
      ]
     },
     "execution_count": 2,
     "metadata": {},
     "output_type": "execute_result"
    }
   ],
   "source": [
    "complex(7)        # not provide:default"
   ]
  },
  {
   "cell_type": "code",
   "execution_count": 3,
   "id": "87c9f7fb",
   "metadata": {},
   "outputs": [
    {
     "data": {
      "text/plain": [
       "10"
      ]
     },
     "execution_count": 3,
     "metadata": {},
     "output_type": "execute_result"
    }
   ],
   "source": [
    "from random import randint\n",
    "randint(10,20)"
   ]
  },
  {
   "cell_type": "code",
   "execution_count": 4,
   "id": "4d4d7428",
   "metadata": {},
   "outputs": [
    {
     "name": "stdout",
     "output_type": "stream",
     "text": [
      "40\n"
     ]
    }
   ],
   "source": [
    "def summ(a=0,b=0):\n",
    "    print(a*b)\n",
    "summ(4,10)"
   ]
  },
  {
   "cell_type": "code",
   "execution_count": 5,
   "id": "3d8d5310",
   "metadata": {},
   "outputs": [
    {
     "name": "stdout",
     "output_type": "stream",
     "text": [
      "enter the radius:11\n",
      "the area of circle is: 380.13\n"
     ]
    }
   ],
   "source": [
    "# wap ask the user to find area of circle\n",
    "# formula:pi*radius*radius\n",
    "# import math,math.pi\n",
    "# basic method\n",
    "# with out arguments\n",
    "# with arguments\n",
    "# default arguments\n",
    "\n",
    "import math\n",
    "pii=math.pi\n",
    "r=eval(input(\"enter the radius:\"))\n",
    "area1=round(pii*r*r,2)\n",
    "print(\"the area of circle is:\",area1)\n",
    "\n",
    "# area2=pii*r**2"
   ]
  },
  {
   "cell_type": "code",
   "execution_count": 6,
   "id": "b5104708",
   "metadata": {},
   "outputs": [
    {
     "name": "stdout",
     "output_type": "stream",
     "text": [
      "enter the radius:12\n",
      "the area of circle is: 452.39\n"
     ]
    }
   ],
   "source": [
    "# m-1:with out arguments\n",
    "import math\n",
    "def area_of_circle():\n",
    "    pii=math.pi\n",
    "    r=eval(input(\"enter the radius:\"))\n",
    "    area1=round(pii*r*r,2)\n",
    "    print(\"the area of circle is:\",area1)\n",
    "area_of_circle()"
   ]
  },
  {
   "cell_type": "code",
   "execution_count": 7,
   "id": "a55eae3a",
   "metadata": {},
   "outputs": [
    {
     "name": "stdout",
     "output_type": "stream",
     "text": [
      "the area of circle is: 530.93\n"
     ]
    }
   ],
   "source": [
    "# m-2:with arguments direct pass\n",
    "import math\n",
    "def area_of_circle(r):\n",
    "    pii=math.pi\n",
    "    area1=round(pii*r*r,2)\n",
    "    print(\"the area of circle is:\",area1)\n",
    "area_of_circle(13)        # direct pass"
   ]
  },
  {
   "cell_type": "code",
   "execution_count": 8,
   "id": "3962312f",
   "metadata": {},
   "outputs": [
    {
     "name": "stdout",
     "output_type": "stream",
     "text": [
      "enter radius:14\n",
      "the area of circle is: 615.75\n"
     ]
    }
   ],
   "source": [
    "# m-2:keyboard pass\n",
    "# you need to provide argument value before call the function anywhere\n",
    "# r=eval(input(\"enter radius\"))\n",
    "\n",
    "import math\n",
    "def area_of_circle(r):\n",
    "    pii=math.pi\n",
    "    area1=round(pii*r*r,2)\n",
    "    print(\"the area of circle is:\",area1)\n",
    "r=eval(input(\"enter radius:\"))\n",
    "area_of_circle(r)\n",
    "\n",
    "# s-1:import math\n",
    "# s-2:define function\n",
    "# s-3:getting r value\n",
    "# s-4:call the function\n",
    "# s-5:    pii value\n",
    "# s-6:    area1\n",
    "# s-7:    print"
   ]
  },
  {
   "cell_type": "code",
   "execution_count": 9,
   "id": "1bf46bb7",
   "metadata": {},
   "outputs": [
    {
     "name": "stdout",
     "output_type": "stream",
     "text": [
      "enter radius:16\n",
      "the area of circle is: 804.25\n"
     ]
    }
   ],
   "source": [
    "import math\n",
    "def area_of_circle(r):\n",
    "    pii=math.pi\n",
    "    area1=round(pii*r*r,2)\n",
    "    print(\"the area of circle is:\",area1)\n",
    "area_of_circle(eval(input(\"enter radius:\")))"
   ]
  },
  {
   "cell_type": "code",
   "execution_count": 10,
   "id": "99ac58ff",
   "metadata": {},
   "outputs": [
    {
     "name": "stdout",
     "output_type": "stream",
     "text": [
      "the area of circle is: 907.92\n"
     ]
    }
   ],
   "source": [
    "# m-3:default arguments\n",
    "import math\n",
    "def area_of_circle(pii,r=17):\n",
    "    area1=round(pii*r*r,2)\n",
    "    print(\"the area of circle is:\",area1)\n",
    "pii=math.pi\n",
    "area_of_circle(pii)        # 3.14=pii"
   ]
  },
  {
   "cell_type": "code",
   "execution_count": 11,
   "id": "7802c801",
   "metadata": {},
   "outputs": [
    {
     "name": "stdout",
     "output_type": "stream",
     "text": [
      "enter the radius:18\n",
      "the area of circle is: 1017.88\n"
     ]
    }
   ],
   "source": [
    "import math\n",
    "def area_of_circle():\n",
    "    try:\n",
    "        pii=math.pi\n",
    "        r=eval(input(\"enter the radius:\"))\n",
    "        area11=round(pii*r*r,2)\n",
    "        print(\"the area of circle is:\",area11)\n",
    "    except exception as e:\n",
    "        print(e)\n",
    "area_of_circle()"
   ]
  },
  {
   "cell_type": "code",
   "execution_count": 12,
   "id": "93c1841d",
   "metadata": {},
   "outputs": [
    {
     "ename": "NameError",
     "evalue": "name 'area11' is not defined",
     "output_type": "error",
     "traceback": [
      "\u001b[1;31m---------------------------------------------------------------------------\u001b[0m",
      "\u001b[1;31mNameError\u001b[0m                                 Traceback (most recent call last)",
      "Cell \u001b[1;32mIn[12], line 1\u001b[0m\n\u001b[1;32m----> 1\u001b[0m area11\n",
      "\u001b[1;31mNameError\u001b[0m: name 'area11' is not defined"
     ]
    }
   ],
   "source": [
    "area11\n",
    "\n",
    "# function is calculating area value\n",
    "# but not providing(return) that value to you\n",
    "# when you want use that value outside the function ====> error"
   ]
  },
  {
   "cell_type": "markdown",
   "id": "26ac1fd9",
   "metadata": {},
   "source": [
    "**return**"
   ]
  },
  {
   "cell_type": "code",
   "execution_count": 13,
   "id": "eaac88a0",
   "metadata": {},
   "outputs": [
    {
     "name": "stdout",
     "output_type": "stream",
     "text": [
      "enter the radius:19\n",
      "the area of circle is: 1134.11\n"
     ]
    }
   ],
   "source": [
    "import math\n",
    "def area_of_circle():\n",
    "    pii=math.pi\n",
    "    r=eval(input(\"enter the radius:\"))\n",
    "    area11=round(pii*r*r,2)\n",
    "    print(\"the area of circle is:\",area11)\n",
    "    return(area11,pii)\n",
    "area,pi=area_of_circle()\n",
    "\n",
    "# area_of_circle() will return two values\n",
    "# area11,pii\n",
    "# area11 will store in a variable:Area\n",
    "# pii will store in a variable:pi"
   ]
  },
  {
   "cell_type": "code",
   "execution_count": 14,
   "id": "0f760f66",
   "metadata": {},
   "outputs": [
    {
     "data": {
      "text/plain": [
       "1134.11"
      ]
     },
     "execution_count": 14,
     "metadata": {},
     "output_type": "execute_result"
    }
   ],
   "source": [
    "area"
   ]
  },
  {
   "cell_type": "code",
   "execution_count": 15,
   "id": "dff0d88e",
   "metadata": {},
   "outputs": [
    {
     "data": {
      "text/plain": [
       "3.141592653589793"
      ]
     },
     "execution_count": 15,
     "metadata": {},
     "output_type": "execute_result"
    }
   ],
   "source": [
    "pi"
   ]
  },
  {
   "cell_type": "code",
   "execution_count": 18,
   "id": "59cf5a93",
   "metadata": {},
   "outputs": [
    {
     "name": "stdout",
     "output_type": "stream",
     "text": [
      "enter the radius:31\n",
      "the area of circle is: 3019.07\n",
      "3019.07\n",
      "3.141592653589793\n"
     ]
    }
   ],
   "source": [
    "import math\n",
    "def area_of_circle():\n",
    "    pii=math.pi\n",
    "    r=eval(input(\"enter the radius:\"))\n",
    "    area11=round(pii*r*r,2)\n",
    "    print(\"the area of circle is:\",area11)\n",
    "    return(area11,pii)\n",
    "Area,pi=area_of_circle()\n",
    "print(Area)\n",
    "print(pi)"
   ]
  },
  {
   "cell_type": "code",
   "execution_count": 1,
   "id": "f631b58f",
   "metadata": {},
   "outputs": [
    {
     "name": "stdout",
     "output_type": "stream",
     "text": [
      "sum: 115\n",
      "avg: 38.333333333333336\n",
      "addition is: 115 average is: 38.333333333333336\n"
     ]
    }
   ],
   "source": [
    "# ask the user enter 3 numbers\n",
    "# find the sum and average\n",
    "# return the average and sum both\n",
    "\n",
    "def sum_avg(n1,n2,n3):\n",
    "    summ=n1+n2+n3\n",
    "    avg=summ/3\n",
    "    print('sum:',summ)\n",
    "    print('avg:',avg)\n",
    "    return(summ,avg)\n",
    "addition,average=sum_avg(34,40,41)\n",
    "\n",
    "# sum_avg(34,40,41) is returning two values\n",
    "# summ and avg\n",
    "# summ we are saving in a variable:addition\n",
    "# avg we are saving in a variable:average\n",
    "\n",
    "print('addition is:',addition,'average is:',average)"
   ]
  },
  {
   "cell_type": "code",
   "execution_count": 2,
   "id": "40d614c2",
   "metadata": {},
   "outputs": [
    {
     "name": "stdout",
     "output_type": "stream",
     "text": [
      "44 is greater\n",
      "44\n"
     ]
    }
   ],
   "source": [
    "# find the biggest number of 3 numbers\n",
    "# take three numbers\n",
    "# and find the biggest number\n",
    "# and return that number\n",
    "# if num1>num2 and num1>num3:num1\n",
    "# elif num2>num3:num2\n",
    "# else:num3\n",
    "# first write the normal code\n",
    "# then create the function\n",
    "# return the value\n",
    "\n",
    "def greater(n1,n2,n3):\n",
    "    if n1>n2 and n1>n2:\n",
    "        print(\"{} is greater\".format(n1))\n",
    "        return(n1)\n",
    "    elif n2>n3:\n",
    "        print(\"{} is greater\".format(n2))\n",
    "        return(n2)\n",
    "    else:\n",
    "        print(\"{} is greater\".format(n3))\n",
    "        return(n3)\n",
    "GREATER=greater(42,43,44)\n",
    "\n",
    "# it is returning only one values\n",
    "# whenever condition satisfy\n",
    "\n",
    "print(GREATER)"
   ]
  },
  {
   "cell_type": "code",
   "execution_count": 3,
   "id": "7ee2f1ea",
   "metadata": {},
   "outputs": [
    {
     "name": "stdout",
     "output_type": "stream",
     "text": [
      "enter 1st no:46\n",
      "enter 2nd no:47\n",
      "enter 3rd no:48\n",
      "48 is the greatest number\n",
      "48\n"
     ]
    }
   ],
   "source": [
    "def numbers():\n",
    "    num1=eval(input(\"enter 1st no:\"))\n",
    "    num2=eval(input(\"enter 2nd no:\"))\n",
    "    num3=eval(input(\"enter 3rd no:\"))\n",
    "    if num2<num1>num3:\n",
    "        print(num1,\"is the greatest number\")\n",
    "        a=num1\n",
    "    elif num2>num3:\n",
    "        print(num2,\"is the greatest number\")\n",
    "        a=num2\n",
    "    else:\n",
    "        print(num3,\"is the greatest number\")\n",
    "        a=num3\n",
    "    return(a)\n",
    "a=numbers()\n",
    "print(a)"
   ]
  },
  {
   "cell_type": "code",
   "execution_count": 4,
   "id": "7b4c05aa",
   "metadata": {},
   "outputs": [
    {
     "name": "stdout",
     "output_type": "stream",
     "text": [
      "sum: 174\n",
      "avg: 58.0\n"
     ]
    }
   ],
   "source": [
    "def sum_avg(n1,n2,n3):\n",
    "    return(n1+n2+n3,(n1+n2+n3)/3)\n",
    "addition,avearage=sum_avg(49,61,64)\n",
    "\n",
    "def sum_avg(n1,n2,n3):\n",
    "    summ=n1+n2+n3\n",
    "    avg=summ/3\n",
    "    print('sum:',summ)\n",
    "    print('avg:',avg)\n",
    "    return(summ,avg)\n",
    "addition,average=sum_avg(49,61,64)"
   ]
  },
  {
   "cell_type": "code",
   "execution_count": 1,
   "id": "0f0dad66",
   "metadata": {},
   "outputs": [
    {
     "name": "stdout",
     "output_type": "stream",
     "text": [
      "145 -3 5254 0.96\n"
     ]
    }
   ],
   "source": [
    "def add(a,b):\n",
    "    return(a+b)\n",
    "def mul(a,b):\n",
    "    return(a*b)\n",
    "def sub(a,b):\n",
    "    return(a-b)\n",
    "def div(a,b):\n",
    "    return(a/b)\n",
    "val_add=add(71,74)\n",
    "val_sub=sub(71,74)\n",
    "val_mul=mul(71,74)\n",
    "val_div=div(71,74)\n",
    "print(val_add,val_sub,val_mul,round(val_div,2))"
   ]
  },
  {
   "cell_type": "code",
   "execution_count": 2,
   "id": "28391804",
   "metadata": {},
   "outputs": [
    {
     "name": "stdout",
     "output_type": "stream",
     "text": [
      "165 -3 6804 0.96\n"
     ]
    }
   ],
   "source": [
    "def aggregation(a,b):\n",
    "    return(a+b,a-b,a*b,a/b)\n",
    "add,sub,mul,div=aggregation(81,84)\n",
    "print(add,sub,mul,round(div,2))"
   ]
  },
  {
   "cell_type": "code",
   "execution_count": 3,
   "id": "cced52bf",
   "metadata": {},
   "outputs": [
    {
     "data": {
      "text/plain": [
       "(185, -3, 8554, 0.9680851063829787)"
      ]
     },
     "execution_count": 3,
     "metadata": {},
     "output_type": "execute_result"
    }
   ],
   "source": [
    "def aggregation(a,b):\n",
    "    return(a+b,a-b,a*b,a/b)\n",
    "value=aggregation(91,94)\n",
    "value"
   ]
  },
  {
   "cell_type": "code",
   "execution_count": 4,
   "id": "1dafb02b",
   "metadata": {},
   "outputs": [
    {
     "name": "stdout",
     "output_type": "stream",
     "text": [
      "5 -3 4 0.25\n"
     ]
    }
   ],
   "source": [
    "# how to print in next line using one print statement\n",
    "def add(a,b):return(a+b)\n",
    "def sub(a,b):return(a-b)\n",
    "def mul(a,b):return(a*b)\n",
    "def div(a,b):return(a/b)\n",
    "val_add=add(1,4)\n",
    "val_sub=sub(1,4)\n",
    "val_mul=mul(1,4)\n",
    "val_div=div(1,4)\n",
    "print(val_add,val_sub,val_mul,round(val_div,2))"
   ]
  },
  {
   "cell_type": "markdown",
   "id": "aa991fa7",
   "metadata": {},
   "source": [
    "- with out arguments\n",
    "- with arguments\n",
    "- default arguments\n",
    "- return statements"
   ]
  },
  {
   "cell_type": "markdown",
   "id": "4a587373",
   "metadata": {},
   "source": [
    "**local variables**"
   ]
  },
  {
   "cell_type": "code",
   "execution_count": 5,
   "id": "cc7a495b",
   "metadata": {},
   "outputs": [],
   "source": [
    "def addition():\n",
    "    n1=10\n",
    "    n2=11\n",
    "    add=n1+n2\n",
    "    print(\"the addition of {} and {} is {}\".format(n1,n2,add))"
   ]
  },
  {
   "cell_type": "markdown",
   "id": "a64bb678",
   "metadata": {},
   "source": [
    "**local variable**\n",
    "- the variables provided inside the function"
   ]
  },
  {
   "cell_type": "markdown",
   "id": "f1b7fe5e",
   "metadata": {},
   "source": [
    "**global variables**\n",
    "- the variables provided outside the function"
   ]
  },
  {
   "cell_type": "code",
   "execution_count": 6,
   "id": "1057523c",
   "metadata": {},
   "outputs": [
    {
     "name": "stdout",
     "output_type": "stream",
     "text": [
      "the addition of 12 and 13 is 25\n"
     ]
    }
   ],
   "source": [
    "n1=12\n",
    "n2=13\n",
    "def addition():        # no need to provide inside brackets\n",
    "    add=n1+n2\n",
    "    print(\"the addition of {} and {} is {}\".format(n1,n2,add))\n",
    "addition()"
   ]
  },
  {
   "cell_type": "code",
   "execution_count": 8,
   "id": "53f0bba8",
   "metadata": {},
   "outputs": [
    {
     "name": "stdout",
     "output_type": "stream",
     "text": [
      "the average of 14,16 and 17 is 15.666666666666666\n"
     ]
    }
   ],
   "source": [
    "# implement below code using with arguments\n",
    "def avg():\n",
    "    num11=14\n",
    "    num22=16\n",
    "    num33=17\n",
    "    avg=(num11+num22+num33)/3\n",
    "    print(\"the average of {},{} and {} is {}\".format(num11,num22,num33,avg))\n",
    "    return(num11,num22)\n",
    "val1,val2=avg()"
   ]
  },
  {
   "cell_type": "code",
   "execution_count": 9,
   "id": "e1b34f49",
   "metadata": {},
   "outputs": [
    {
     "data": {
      "text/plain": [
       "16"
      ]
     },
     "execution_count": 9,
     "metadata": {},
     "output_type": "execute_result"
    }
   ],
   "source": [
    "val2"
   ]
  },
  {
   "cell_type": "markdown",
   "id": "e0a77349",
   "metadata": {},
   "source": [
    "- local variables are inside the function\n",
    "- local variable values can not use outside the function\n",
    "- untill unless you return those values"
   ]
  },
  {
   "cell_type": "code",
   "execution_count": 10,
   "id": "6c87829e",
   "metadata": {},
   "outputs": [
    {
     "name": "stdout",
     "output_type": "stream",
     "text": [
      "the average of 18,19 and 21 is 19.333333333333332\n",
      "342\n"
     ]
    }
   ],
   "source": [
    "num111=18\n",
    "num222=19\n",
    "num333=21\n",
    "def avg():\n",
    "    avg=(num111+num222+num333)/3\n",
    "    print(\"the average of {},{} and {} is {}\".format(num111,num222,num333,avg))\n",
    "avg()\n",
    "print(num111*num222)"
   ]
  },
  {
   "cell_type": "code",
   "execution_count": 11,
   "id": "ad24536c",
   "metadata": {},
   "outputs": [
    {
     "data": {
      "text/plain": [
       "18"
      ]
     },
     "execution_count": 11,
     "metadata": {},
     "output_type": "execute_result"
    }
   ],
   "source": [
    "num111"
   ]
  },
  {
   "cell_type": "code",
   "execution_count": 12,
   "id": "b363e1b4",
   "metadata": {},
   "outputs": [
    {
     "name": "stdout",
     "output_type": "stream",
     "text": [
      "the addition of 34 and 40 is 74\n",
      "24\n"
     ]
    }
   ],
   "source": [
    "n1=24\n",
    "n2=31\n",
    "def addition():\n",
    "    n1=34\n",
    "    n2=40\n",
    "    add=n1+n2\n",
    "    print(\"the addition of {} and {} is {}\".format(n1,n2,add))\n",
    "addition()\n",
    "print(n1)"
   ]
  },
  {
   "cell_type": "code",
   "execution_count": 13,
   "id": "2570a32a",
   "metadata": {},
   "outputs": [
    {
     "name": "stdout",
     "output_type": "stream",
     "text": [
      "the addition of 44 and 43 is 87\n",
      "41\n"
     ]
    }
   ],
   "source": [
    "n1=41\n",
    "n2=42\n",
    "def addition(n1):\n",
    "    n2=43\n",
    "    add=n1+n2\n",
    "    print(\"the addition of {} and {} is {}\".format(n1,n2,add))\n",
    "addition(44)\n",
    "print(n1)"
   ]
  },
  {
   "cell_type": "code",
   "execution_count": 14,
   "id": "8d24adcf",
   "metadata": {},
   "outputs": [
    {
     "name": "stdout",
     "output_type": "stream",
     "text": [
      "the addition of 44 and 43 is 87\n",
      "41\n"
     ]
    }
   ],
   "source": [
    "n1=41\n",
    "n2=42\n",
    "def addition(n1=46):\n",
    "    n2=43\n",
    "    add=n1+n2\n",
    "    print(\"the addition of {} and {} is {}\".format(n1,n2,add))\n",
    "addition(44)\n",
    "print(n1)\n",
    "\n",
    "# step-1: n1=41\n",
    "# step-2: n2=42\n",
    "# step-3: function defined n1=46\n",
    "# step-4: calling the function: n1=44\n",
    "# step-5:                       n2=43\n",
    "# step-6:                       800\n",
    "# step-7: n1=41"
   ]
  },
  {
   "cell_type": "code",
   "execution_count": 16,
   "id": "86307cdf",
   "metadata": {},
   "outputs": [
    {
     "name": "stdout",
     "output_type": "stream",
     "text": [
      "enter 1st no:47\n",
      "enter 2nd no:48\n",
      "enter 3rd no:49\n",
      "49 is the greatest number\n"
     ]
    }
   ],
   "source": [
    "def numbers():\n",
    "    num1=eval(input(\"enter 1st no:\"))\n",
    "    num2=eval(input(\"enter 2nd no:\"))\n",
    "    num3=eval(input(\"enter 3rd no:\"))\n",
    "    if num2<num1>num3:\n",
    "        print(num1,\"is the greatest number\")\n",
    "        a=num1\n",
    "    elif num2>num3:\n",
    "        print(num2,\"is the greatest number\")\n",
    "        a=num2\n",
    "    else:\n",
    "        print(num3,\"is the greatest number\")\n",
    "        a=num3\n",
    "    return(a)\n",
    "a=numbers()"
   ]
  },
  {
   "cell_type": "markdown",
   "id": "b6248a62",
   "metadata": {},
   "source": [
    "*when the concept is local and global*"
   ]
  },
  {
   "cell_type": "code",
   "execution_count": 18,
   "id": "9b896796",
   "metadata": {},
   "outputs": [
    {
     "name": "stdout",
     "output_type": "stream",
     "text": [
      "enter 1st no:74\n",
      "enter 2nd no:81\n",
      "enter 3rd no:84\n"
     ]
    },
    {
     "ename": "SyntaxError",
     "evalue": "'return' outside function (2639186423.py, line 13)",
     "output_type": "error",
     "traceback": [
      "\u001b[1;36m  Cell \u001b[1;32mIn[18], line 13\u001b[1;36m\u001b[0m\n\u001b[1;33m    return(a)\u001b[0m\n\u001b[1;37m    ^\u001b[0m\n\u001b[1;31mSyntaxError\u001b[0m\u001b[1;31m:\u001b[0m 'return' outside function\n"
     ]
    }
   ],
   "source": [
    "num1=eval(input(\"enter 1st no:\"))\n",
    "num2=eval(input(\"enter 2nd no:\"))\n",
    "num3=eval(input(\"enter 3rd no:\"))\n",
    "if num2<num1>num3:\n",
    "    print(num1,\"is the greatest number\")\n",
    "    a=num1\n",
    "elif num2>num3:\n",
    "    print(num2,\"is the greatest number\")\n",
    "    a=num2\n",
    "else:\n",
    "    print(num3,\"is the greatest number\")\n",
    "    a=num3\n",
    "return(a)"
   ]
  },
  {
   "cell_type": "code",
   "execution_count": null,
   "id": "3ef6db66",
   "metadata": {},
   "outputs": [],
   "source": []
  }
 ],
 "metadata": {
  "kernelspec": {
   "display_name": "Python 3 (ipykernel)",
   "language": "python",
   "name": "python3"
  },
  "language_info": {
   "codemirror_mode": {
    "name": "ipython",
    "version": 3
   },
   "file_extension": ".py",
   "mimetype": "text/x-python",
   "name": "python",
   "nbconvert_exporter": "python",
   "pygments_lexer": "ipython3",
   "version": "3.11.5"
  }
 },
 "nbformat": 4,
 "nbformat_minor": 5
}
