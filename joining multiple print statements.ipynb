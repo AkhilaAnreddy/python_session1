{
 "cells": [
  {
   "cell_type": "code",
   "execution_count": 1,
   "id": "fb0a6081",
   "metadata": {},
   "outputs": [
    {
     "data": {
      "text/plain": [
       "200"
      ]
     },
     "execution_count": 1,
     "metadata": {},
     "output_type": "execute_result"
    }
   ],
   "source": [
    "number1=100\n",
    "number2=200\n",
    "number1         # 100 is not coming\n",
    "number2         # 200 is latest so it is coming"
   ]
  },
  {
   "cell_type": "code",
   "execution_count": null,
   "id": "ea03d2cc",
   "metadata": {},
   "outputs": [],
   "source": [
    "# in order to if you want to see both answers\n",
    "# print"
   ]
  },
  {
   "cell_type": "code",
   "execution_count": 2,
   "id": "aa18a797",
   "metadata": {},
   "outputs": [
    {
     "name": "stdout",
     "output_type": "stream",
     "text": [
      "100\n",
      "200\n"
     ]
    }
   ],
   "source": [
    "number1=100        # 100 is saved in a variable number1\n",
    "number2=200        # 200 is saved in a variable number2\n",
    "print(number1)     # print the value of number1 = 100\n",
    "print(number2)     # print the value of number2 = 200"
   ]
  },
  {
   "cell_type": "code",
   "execution_count": 3,
   "id": "be27dbee",
   "metadata": {},
   "outputs": [
    {
     "name": "stdout",
     "output_type": "stream",
     "text": [
      "hello\n",
      "how\n",
      "are\n",
      "you\n"
     ]
    },
    {
     "ename": "NameError",
     "evalue": "name 'hello' is not defined",
     "output_type": "error",
     "traceback": [
      "\u001b[1;31m---------------------------------------------------------------------------\u001b[0m",
      "\u001b[1;31mNameError\u001b[0m                                 Traceback (most recent call last)",
      "Cell \u001b[1;32mIn[3], line 5\u001b[0m\n\u001b[0;32m      3\u001b[0m \u001b[38;5;28mprint\u001b[39m(\u001b[38;5;124m'\u001b[39m\u001b[38;5;124mare\u001b[39m\u001b[38;5;124m'\u001b[39m)           \u001b[38;5;66;03m# step-3 : are\u001b[39;00m\n\u001b[0;32m      4\u001b[0m \u001b[38;5;28mprint\u001b[39m(\u001b[38;5;124m'\u001b[39m\u001b[38;5;124myou\u001b[39m\u001b[38;5;124m'\u001b[39m)           \u001b[38;5;66;03m# step-4 : you\u001b[39;00m\n\u001b[1;32m----> 5\u001b[0m \u001b[38;5;28mprint\u001b[39m(hello)           \u001b[38;5;66;03m# step-5 : hello is variable,is hello intoalised above\u001b[39;00m\n\u001b[0;32m      6\u001b[0m \u001b[38;5;28mprint\u001b[39m(number1)\n",
      "\u001b[1;31mNameError\u001b[0m: name 'hello' is not defined"
     ]
    }
   ],
   "source": [
    "print('hello')         # step-1 : hello\n",
    "print('how')           # step-2 : how\n",
    "print('are')           # step-3 : are\n",
    "print('you')           # step-4 : you\n",
    "print(hello)           # step-5 : hello is variable,is hello intoalised above\n",
    "print(number1)\n",
    "\n",
    "# python is a step-step\n",
    "# name error : name hello not defined"
   ]
  },
  {
   "cell_type": "code",
   "execution_count": null,
   "id": "5f9048c6",
   "metadata": {},
   "outputs": [],
   "source": [
    "# you written 500 lines of code\n",
    "# you got error at 200 line\n",
    "# after 200 line,201 to 500 will not execute"
   ]
  },
  {
   "cell_type": "code",
   "execution_count": 4,
   "id": "4ed46d7d",
   "metadata": {},
   "outputs": [
    {
     "name": "stdout",
     "output_type": "stream",
     "text": [
      "100 200\n"
     ]
    }
   ],
   "source": [
    "print(number1,number2)          # 100,200"
   ]
  },
  {
   "cell_type": "code",
   "execution_count": 5,
   "id": "beeaa818",
   "metadata": {},
   "outputs": [
    {
     "name": "stdout",
     "output_type": "stream",
     "text": [
      "100\n",
      "200\n"
     ]
    }
   ],
   "source": [
    "print(number1)\n",
    "print(number2)"
   ]
  },
  {
   "cell_type": "code",
   "execution_count": 6,
   "id": "b02903a9",
   "metadata": {},
   "outputs": [
    {
     "name": "stdout",
     "output_type": "stream",
     "text": [
      "100\n",
      "----------------\n",
      "200\n",
      "****************\n"
     ]
    }
   ],
   "source": [
    "print(number1)\n",
    "print('----------------')\n",
    "print(number2)\n",
    "print('****************')"
   ]
  },
  {
   "cell_type": "code",
   "execution_count": 7,
   "id": "4d298dfb",
   "metadata": {},
   "outputs": [
    {
     "name": "stdout",
     "output_type": "stream",
     "text": [
      "hai how are you\n",
      "hai how are you\n"
     ]
    }
   ],
   "source": [
    "print('hai','how','are','you')\n",
    "print('hai how are you')"
   ]
  },
  {
   "cell_type": "markdown",
   "id": "b1ec5206",
   "metadata": {},
   "source": [
    "# joining multiple print statements"
   ]
  },
  {
   "cell_type": "code",
   "execution_count": 8,
   "id": "2ec19a20",
   "metadata": {},
   "outputs": [
    {
     "name": "stdout",
     "output_type": "stream",
     "text": [
      "hai how\n"
     ]
    }
   ],
   "source": [
    "print('hai' , 'how')"
   ]
  },
  {
   "cell_type": "markdown",
   "id": "60519954",
   "metadata": {},
   "source": [
    "# end"
   ]
  },
  {
   "cell_type": "code",
   "execution_count": 9,
   "id": "19aa9656",
   "metadata": {},
   "outputs": [
    {
     "name": "stdout",
     "output_type": "stream",
     "text": [
      "hai---->how\n"
     ]
    }
   ],
   "source": [
    "print('hai',end='---->')\n",
    "print('how')"
   ]
  },
  {
   "cell_type": "code",
   "execution_count": 11,
   "id": "0cfeb6af",
   "metadata": {},
   "outputs": [
    {
     "name": "stdout",
     "output_type": "stream",
     "text": [
      "hai and how\n"
     ]
    }
   ],
   "source": [
    "print('hai ',end='and')\n",
    "print(' how')"
   ]
  },
  {
   "cell_type": "code",
   "execution_count": 12,
   "id": "5ecf0df5",
   "metadata": {},
   "outputs": [
    {
     "name": "stdout",
     "output_type": "stream",
     "text": [
      "how"
     ]
    }
   ],
   "source": [
    "print('how',end='')"
   ]
  },
  {
   "cell_type": "code",
   "execution_count": 13,
   "id": "d4496c6c",
   "metadata": {},
   "outputs": [
    {
     "name": "stdout",
     "output_type": "stream",
     "text": [
      "1 2 3\n"
     ]
    }
   ],
   "source": [
    "print('1',end=' ')\n",
    "print('2',end=' ')\n",
    "print('3')"
   ]
  },
  {
   "cell_type": "code",
   "execution_count": 14,
   "id": "296677f1",
   "metadata": {},
   "outputs": [
    {
     "name": "stdout",
     "output_type": "stream",
     "text": [
      "the addition of number1 and number2 is 600\n"
     ]
    }
   ],
   "source": [
    "number1=200\n",
    "number2=400\n",
    "add=number1+number2\n",
    "print(\"the addition of number1 and number2 is\",add)"
   ]
  },
  {
   "cell_type": "code",
   "execution_count": 15,
   "id": "8c335878",
   "metadata": {},
   "outputs": [
    {
     "name": "stdout",
     "output_type": "stream",
     "text": [
      "the addition of 20 and 40 is 60\n"
     ]
    }
   ],
   "source": [
    "# the addition of 200 and 400 is 600\n",
    "print(\"the addition of 20 and 40 is 60\")"
   ]
  },
  {
   "cell_type": "code",
   "execution_count": 16,
   "id": "400bcf85",
   "metadata": {},
   "outputs": [
    {
     "name": "stdout",
     "output_type": "stream",
     "text": [
      "the addition of 2000 and 4000 is 6000\n"
     ]
    }
   ],
   "source": [
    "number1=2000\n",
    "number2=4000\n",
    "add=number1+number2\n",
    "print(\"the addition of 2000 and 4000 is\",add)\n",
    "\n",
    "# how add value is printing automatically\n",
    "# in the same way the value also should print"
   ]
  },
  {
   "cell_type": "code",
   "execution_count": 17,
   "id": "c1b2dae7",
   "metadata": {},
   "outputs": [
    {
     "name": "stdout",
     "output_type": "stream",
     "text": [
      "the addition of 2000 and 4000 is 6000\n"
     ]
    }
   ],
   "source": [
    "num1=2000\n",
    "num2=4000\n",
    "add=num1+num2\n",
    "print(\"the addition of\",num1,\"and\",num2,\"is\",add)"
   ]
  },
  {
   "cell_type": "code",
   "execution_count": 18,
   "id": "641e93d9",
   "metadata": {},
   "outputs": [
    {
     "name": "stdout",
     "output_type": "stream",
     "text": [
      "my name is python im from hyd and im 10 years old\n"
     ]
    }
   ],
   "source": [
    "# step-1 : variable name = 'python'\n",
    "# step-2 : city = 'hyd'\n",
    "# step-3 : age = 10\n",
    "\n",
    "# my name is python,i came from hyd and im 10 years old\n",
    "\n",
    "name='python'\n",
    "city='hyd'\n",
    "age=10\n",
    "print('my name is',name,'im from',city,'and im',age,'years old')"
   ]
  },
  {
   "cell_type": "code",
   "execution_count": 19,
   "id": "3a88b978",
   "metadata": {},
   "outputs": [
    {
     "name": "stdout",
     "output_type": "stream",
     "text": [
      "my name is python Im from hyd and im 10 years old\n"
     ]
    }
   ],
   "source": [
    "# my name is python,I came from hyd and Im 10 years old\n",
    "name=\"python\"\n",
    "city=\"hyd\"\n",
    "age=10\n",
    "print(\"my name is\",name,\"Im from\",city,end=' and ')\n",
    "print(\"im\",age,\"years old\")"
   ]
  },
  {
   "cell_type": "code",
   "execution_count": null,
   "id": "c2eabe95",
   "metadata": {},
   "outputs": [],
   "source": [
    "# \"the addition of 200 and 400 is 600\"\n",
    "# the addition of {} and {} is {}"
   ]
  },
  {
   "cell_type": "code",
   "execution_count": 20,
   "id": "585a1ea4",
   "metadata": {},
   "outputs": [
    {
     "name": "stdout",
     "output_type": "stream",
     "text": [
      "the addition of 200 and 400 is 600\n"
     ]
    }
   ],
   "source": [
    "num1=200\n",
    "num2=400\n",
    "add=num1+num2\n",
    "print(\"the addition of {} and {} is {}\".format(num1,num2,add))"
   ]
  },
  {
   "cell_type": "code",
   "execution_count": 21,
   "id": "fb818eed",
   "metadata": {},
   "outputs": [
    {
     "name": "stdout",
     "output_type": "stream",
     "text": [
      "my name is 10 , im from hyd and my age is python year old\n"
     ]
    }
   ],
   "source": [
    "name='python'\n",
    "city='hyd'\n",
    "age=10\n",
    "print(\"my name is {} , im from {} and my age is {} year old\".format(age,city,name))"
   ]
  },
  {
   "cell_type": "code",
   "execution_count": null,
   "id": "9591d824",
   "metadata": {},
   "outputs": [],
   "source": [
    "# step-1 : value1 = 20\n",
    "# step-2 : value2 = 30\n",
    "# step-3 : add = value1+value2\n",
    "# step-4 : sub = value1-value2\n",
    "# step-5 : mul = value1*value2\n",
    "# step-6 : div = value1/value2\n",
    "# the addition of 20 and 30 is : 50\n",
    "# the subtraction 20 and 30 is : -10\n",
    "# the multiplication of 20 and 30 is : 600\n",
    "# the division of 20 and 30 is : 0.6666"
   ]
  },
  {
   "cell_type": "code",
   "execution_count": 22,
   "id": "710d506b",
   "metadata": {},
   "outputs": [
    {
     "name": "stdout",
     "output_type": "stream",
     "text": [
      "the addition of 200 and 300 is 500\n",
      "the subtraction of 200 and 300 is -100\n",
      "the multiplication of 200 and 300 is 60000\n",
      "the division of 200 and 300 is0.67\n"
     ]
    }
   ],
   "source": [
    "val1=200\n",
    "val2=300\n",
    "add=val1+val2\n",
    "sub=val1-val2\n",
    "mul=val1*val2\n",
    "div=round(val1/val2,2)\n",
    "print('the addition of {} and {} is {}'.format(val1,val2,add))\n",
    "print('the subtraction of {} and {} is {}'.format(val1,val2,sub))\n",
    "print('the multiplication of {} and {} is {}'.format(val1,val2,mul))\n",
    "print('the division of {} and {} is{}'.format(val1,val2,div))"
   ]
  },
  {
   "cell_type": "code",
   "execution_count": 23,
   "id": "c6f9df36",
   "metadata": {},
   "outputs": [
    {
     "name": "stdout",
     "output_type": "stream",
     "text": [
      "the addition of 20 and 30 is 50\n",
      "the subtraction of 20 and 30 is -10\n",
      "the multiplication of 20 and 30 is 600\n",
      "the division of 20 and 30 is0.6666666666666666\n"
     ]
    }
   ],
   "source": [
    "value1=20\n",
    "value2=30\n",
    "add=value1+value2\n",
    "sub=value1-value2\n",
    "mul=value1*value2\n",
    "div=value1/value2\n",
    "print('the addition of {} and {} is {}'.format(value1,value2,add))\n",
    "print('the subtraction of {} and {} is {}'.format(value1,value2,sub))\n",
    "print('the multiplication of {} and {} is {}'.format(value1,value2,mul))\n",
    "print('the division of {} and {} is{}'.format(value1,value2,div))"
   ]
  },
  {
   "cell_type": "code",
   "execution_count": 24,
   "id": "02f3bcec",
   "metadata": {},
   "outputs": [
    {
     "data": {
      "text/plain": [
       "0.667"
      ]
     },
     "execution_count": 24,
     "metadata": {},
     "output_type": "execute_result"
    }
   ],
   "source": [
    "round(value1/value2,3)"
   ]
  },
  {
   "cell_type": "code",
   "execution_count": 25,
   "id": "d26cfb3e",
   "metadata": {},
   "outputs": [
    {
     "data": {
      "text/plain": [
       "0.6666666666666666"
      ]
     },
     "execution_count": 25,
     "metadata": {},
     "output_type": "execute_result"
    }
   ],
   "source": [
    "20/30        # / division"
   ]
  },
  {
   "cell_type": "code",
   "execution_count": 26,
   "id": "3c60a5dc",
   "metadata": {},
   "outputs": [
    {
     "data": {
      "text/plain": [
       "20"
      ]
     },
     "execution_count": 26,
     "metadata": {},
     "output_type": "execute_result"
    }
   ],
   "source": [
    "20%30         # % modulus"
   ]
  },
  {
   "cell_type": "code",
   "execution_count": 27,
   "id": "f21a806b",
   "metadata": {},
   "outputs": [
    {
     "data": {
      "text/plain": [
       "0"
      ]
     },
     "execution_count": 27,
     "metadata": {},
     "output_type": "execute_result"
    }
   ],
   "source": [
    "20//30        # floor division"
   ]
  },
  {
   "cell_type": "code",
   "execution_count": 28,
   "id": "b2fcde58",
   "metadata": {},
   "outputs": [
    {
     "data": {
      "text/plain": [
       "2"
      ]
     },
     "execution_count": 28,
     "metadata": {},
     "output_type": "execute_result"
    }
   ],
   "source": [
    "5//2"
   ]
  },
  {
   "cell_type": "code",
   "execution_count": 29,
   "id": "3468c96b",
   "metadata": {},
   "outputs": [
    {
     "data": {
      "text/plain": [
       "1"
      ]
     },
     "execution_count": 29,
     "metadata": {},
     "output_type": "execute_result"
    }
   ],
   "source": [
    "5%2"
   ]
  },
  {
   "cell_type": "code",
   "execution_count": 30,
   "id": "096d548e",
   "metadata": {},
   "outputs": [
    {
     "name": "stdout",
     "output_type": "stream",
     "text": [
      "2.5\n",
      "2\n",
      "1\n"
     ]
    }
   ],
   "source": [
    "print(5/2)         # division\n",
    "print(5//2)        # floor division = qutioent\n",
    "print(5%2)         # modulus = reminder"
   ]
  },
  {
   "cell_type": "code",
   "execution_count": 31,
   "id": "a6595d79",
   "metadata": {},
   "outputs": [
    {
     "name": "stdout",
     "output_type": "stream",
     "text": [
      "the addition of 200 and 300 is 500\n"
     ]
    }
   ],
   "source": [
    "val1 = 200        # manually i provide\n",
    "val2 = 300        # i provided\n",
    "add = val1+val2\n",
    "print(\"the addition of {} and {} is {}\".format(val1,val2,add))"
   ]
  },
  {
   "cell_type": "markdown",
   "id": "acb1603e",
   "metadata": {},
   "source": [
    "# input"
   ]
  },
  {
   "cell_type": "code",
   "execution_count": 32,
   "id": "15af8b0f",
   "metadata": {},
   "outputs": [
    {
     "name": "stdout",
     "output_type": "stream",
     "text": [
      "400\n"
     ]
    },
    {
     "data": {
      "text/plain": [
       "'400'"
      ]
     },
     "execution_count": 32,
     "metadata": {},
     "output_type": "execute_result"
    }
   ],
   "source": [
    "input()"
   ]
  },
  {
   "cell_type": "code",
   "execution_count": 33,
   "id": "974b8c64",
   "metadata": {},
   "outputs": [
    {
     "name": "stdout",
     "output_type": "stream",
     "text": [
      "enter a number100\n"
     ]
    },
    {
     "data": {
      "text/plain": [
       "'100'"
      ]
     },
     "execution_count": 33,
     "metadata": {},
     "output_type": "execute_result"
    }
   ],
   "source": [
    "input(\"enter a number\")"
   ]
  },
  {
   "cell_type": "code",
   "execution_count": 34,
   "id": "5cdc11f1",
   "metadata": {},
   "outputs": [
    {
     "name": "stdout",
     "output_type": "stream",
     "text": [
      "enter some same:akhila\n"
     ]
    },
    {
     "data": {
      "text/plain": [
       "'akhila'"
      ]
     },
     "execution_count": 34,
     "metadata": {},
     "output_type": "execute_result"
    }
   ],
   "source": [
    "input('enter some same:')"
   ]
  },
  {
   "cell_type": "code",
   "execution_count": 35,
   "id": "ca8e2fdb",
   "metadata": {},
   "outputs": [],
   "source": [
    "name1='apple'"
   ]
  },
  {
   "cell_type": "code",
   "execution_count": 36,
   "id": "9e272829",
   "metadata": {},
   "outputs": [
    {
     "name": "stdout",
     "output_type": "stream",
     "text": [
      "what is A for:apple\n",
      "what is B for:ball\n",
      "apple\n",
      "ball\n"
     ]
    }
   ],
   "source": [
    "name1=input('what is A for:')        # 'apple'\n",
    "name2=input('what is B for:')  \n",
    "print(name1)\n",
    "print(name2)"
   ]
  },
  {
   "cell_type": "code",
   "execution_count": 37,
   "id": "08fb3490",
   "metadata": {},
   "outputs": [
    {
     "name": "stdout",
     "output_type": "stream",
     "text": [
      "apple ball\n"
     ]
    }
   ],
   "source": [
    "print(name1,name2)"
   ]
  },
  {
   "cell_type": "code",
   "execution_count": 38,
   "id": "35419971",
   "metadata": {},
   "outputs": [
    {
     "data": {
      "text/plain": [
       "80"
      ]
     },
     "execution_count": 38,
     "metadata": {},
     "output_type": "execute_result"
    }
   ],
   "source": [
    "num1=60\n",
    "num2=80\n",
    "num1\n",
    "num2"
   ]
  },
  {
   "cell_type": "code",
   "execution_count": 39,
   "id": "7463e56d",
   "metadata": {},
   "outputs": [
    {
     "name": "stdout",
     "output_type": "stream",
     "text": [
      "enter number4\n"
     ]
    }
   ],
   "source": [
    "num=input('enter number')"
   ]
  },
  {
   "cell_type": "code",
   "execution_count": 40,
   "id": "c4e9eb52",
   "metadata": {},
   "outputs": [
    {
     "data": {
      "text/plain": [
       "str"
      ]
     },
     "execution_count": 40,
     "metadata": {},
     "output_type": "execute_result"
    }
   ],
   "source": [
    "type(num)"
   ]
  },
  {
   "cell_type": "code",
   "execution_count": 41,
   "id": "04acbb91",
   "metadata": {},
   "outputs": [
    {
     "name": "stdout",
     "output_type": "stream",
     "text": [
      "enter val1:20\n",
      "enter val2:30\n",
      "the addition of 20 and 30 is 2030\n"
     ]
    }
   ],
   "source": [
    "val1=input('enter val1:')        # '20'\n",
    "val2=input('enter val2:')        # '30'\n",
    "add=val1+val2                    # '20'+'30'='2030'    # 'A'+'B'='AB'\n",
    "print('the addition of {} and {} is {}'.format(val1,val2,add))"
   ]
  },
  {
   "cell_type": "code",
   "execution_count": 42,
   "id": "5e653779",
   "metadata": {},
   "outputs": [
    {
     "data": {
      "text/plain": [
       "('20', '30')"
      ]
     },
     "execution_count": 42,
     "metadata": {},
     "output_type": "execute_result"
    }
   ],
   "source": [
    "val1,val2"
   ]
  },
  {
   "cell_type": "code",
   "execution_count": 43,
   "id": "758f5f74",
   "metadata": {},
   "outputs": [
    {
     "data": {
      "text/plain": [
       "'2030'"
      ]
     },
     "execution_count": 43,
     "metadata": {},
     "output_type": "execute_result"
    }
   ],
   "source": [
    "val1+val2"
   ]
  },
  {
   "cell_type": "code",
   "execution_count": 44,
   "id": "71494383",
   "metadata": {},
   "outputs": [
    {
     "data": {
      "text/plain": [
       "'2030'"
      ]
     },
     "execution_count": 44,
     "metadata": {},
     "output_type": "execute_result"
    }
   ],
   "source": [
    "'20'+'30'"
   ]
  },
  {
   "cell_type": "code",
   "execution_count": 45,
   "id": "932e081a",
   "metadata": {},
   "outputs": [
    {
     "data": {
      "text/plain": [
       "20"
      ]
     },
     "execution_count": 45,
     "metadata": {},
     "output_type": "execute_result"
    }
   ],
   "source": [
    "int(val1)"
   ]
  },
  {
   "cell_type": "code",
   "execution_count": 46,
   "id": "81f2aab2",
   "metadata": {},
   "outputs": [
    {
     "name": "stdout",
     "output_type": "stream",
     "text": [
      "enter val1:20\n",
      "enter val2:30\n",
      "the addition of 20 and 30 is 50\n"
     ]
    }
   ],
   "source": [
    "val1=int(input('enter val1:'))         # int('20')=20\n",
    "val2=int(input('enter val2:'))         # int('30')=30\n",
    "add=val1+val2                          # 20+30=50\n",
    "print('the addition of {} and {} is {}'.format(val1,val2,add))"
   ]
  },
  {
   "cell_type": "code",
   "execution_count": 47,
   "id": "ee2db974",
   "metadata": {},
   "outputs": [
    {
     "name": "stdout",
     "output_type": "stream",
     "text": [
      "enter val1:20\n",
      "enter val2:30\n",
      "the addition of 20 and 30 is 50\n"
     ]
    }
   ],
   "source": [
    "val1=input('enter val1:')         # val1 = '20'\n",
    "val2=input('enter val2:')         # val2 = '30'\n",
    "add=int(val1)+int(val2)           # int('20')+int('30')= 20+30\n",
    "print('the addition of {} and {} is {}'.format(val1,val2,add))"
   ]
  },
  {
   "cell_type": "code",
   "execution_count": 1,
   "id": "d7ffcb70",
   "metadata": {},
   "outputs": [
    {
     "name": "stdout",
     "output_type": "stream",
     "text": [
      "enter val1:14\n",
      "enter val2:41\n"
     ]
    }
   ],
   "source": [
    "val1=int(input(\"enter val1:\"))\n",
    "val2=int(input(\"enter val2:\"))\n",
    "add=val1+val2"
   ]
  },
  {
   "cell_type": "code",
   "execution_count": 2,
   "id": "c793ff41",
   "metadata": {},
   "outputs": [
    {
     "name": "stdout",
     "output_type": "stream",
     "text": [
      "enter a number1:14\n",
      "enter number2:41\n",
      "55.0\n"
     ]
    }
   ],
   "source": [
    "num1=int(input(\"enter a number1:\"))\n",
    "num2=float(input(\"enter number2:\"))\n",
    "print(num1+num2)"
   ]
  },
  {
   "cell_type": "code",
   "execution_count": null,
   "id": "b691dd5a",
   "metadata": {},
   "outputs": [],
   "source": [
    "int('200')----works\n",
    "int('200.5')----fail\n",
    "float('200')----works\n",
    "float('200.5')----works"
   ]
  },
  {
   "cell_type": "markdown",
   "id": "a25508ab",
   "metadata": {},
   "source": [
    "# eval"
   ]
  },
  {
   "cell_type": "code",
   "execution_count": 3,
   "id": "858dacfa",
   "metadata": {},
   "outputs": [
    {
     "name": "stdout",
     "output_type": "stream",
     "text": [
      "enter a number1:11\n",
      "enter number2:14\n",
      "25\n"
     ]
    }
   ],
   "source": [
    "num1=eval(input(\"enter a number1:\"))\n",
    "num2=eval(input(\"enter number2:\"))\n",
    "print(num1+num2)"
   ]
  },
  {
   "cell_type": "code",
   "execution_count": 4,
   "id": "e91ff2c7",
   "metadata": {},
   "outputs": [
    {
     "data": {
      "text/plain": [
       "int"
      ]
     },
     "execution_count": 4,
     "metadata": {},
     "output_type": "execute_result"
    }
   ],
   "source": [
    "type(num2)"
   ]
  },
  {
   "cell_type": "code",
   "execution_count": 5,
   "id": "aa841471",
   "metadata": {},
   "outputs": [
    {
     "name": "stdout",
     "output_type": "stream",
     "text": [
      "enter a number1:14\n",
      "enter number2:14.5\n",
      "28.5\n"
     ]
    }
   ],
   "source": [
    "num1=eval(input(\"enter a number1:\"))\n",
    "num2=eval(input(\"enter number2:\"))\n",
    "print(num1+num2)"
   ]
  },
  {
   "cell_type": "code",
   "execution_count": 6,
   "id": "72cacbb7",
   "metadata": {},
   "outputs": [
    {
     "data": {
      "text/plain": [
       "float"
      ]
     },
     "execution_count": 6,
     "metadata": {},
     "output_type": "execute_result"
    }
   ],
   "source": [
    "type(num2)"
   ]
  },
  {
   "cell_type": "code",
   "execution_count": 7,
   "id": "d82e9f5d",
   "metadata": {},
   "outputs": [
    {
     "ename": "ValueError",
     "evalue": "invalid literal for int() with base 10: '200.5'",
     "output_type": "error",
     "traceback": [
      "\u001b[1;31m---------------------------------------------------------------------------\u001b[0m",
      "\u001b[1;31mValueError\u001b[0m                                Traceback (most recent call last)",
      "Cell \u001b[1;32mIn[7], line 1\u001b[0m\n\u001b[1;32m----> 1\u001b[0m \u001b[38;5;28mint\u001b[39m(\u001b[38;5;124m'\u001b[39m\u001b[38;5;124m200.5\u001b[39m\u001b[38;5;124m'\u001b[39m)\n",
      "\u001b[1;31mValueError\u001b[0m: invalid literal for int() with base 10: '200.5'"
     ]
    }
   ],
   "source": [
    "int('200.5')        # fail"
   ]
  },
  {
   "cell_type": "code",
   "execution_count": null,
   "id": "9e97745d",
   "metadata": {},
   "outputs": [],
   "source": [
    "v1=input('enter v1:')        # v1 str\n",
    "v2=int(input('enter v2:'))   # v2 int\n",
    "v3=float(input('enter v3:')) # v3 float\n",
    "v4=eval(input('enter v4:'))  # v4 = depends on provided value"
   ]
  },
  {
   "cell_type": "code",
   "execution_count": 8,
   "id": "b68e19f4",
   "metadata": {},
   "outputs": [
    {
     "name": "stdout",
     "output_type": "stream",
     "text": [
      "enter v4:apple\n"
     ]
    },
    {
     "ename": "NameError",
     "evalue": "name 'apple' is not defined",
     "output_type": "error",
     "traceback": [
      "\u001b[1;31m---------------------------------------------------------------------------\u001b[0m",
      "\u001b[1;31mNameError\u001b[0m                                 Traceback (most recent call last)",
      "Cell \u001b[1;32mIn[8], line 1\u001b[0m\n\u001b[1;32m----> 1\u001b[0m v4\u001b[38;5;241m=\u001b[39m\u001b[38;5;28meval\u001b[39m(\u001b[38;5;28minput\u001b[39m(\u001b[38;5;124m'\u001b[39m\u001b[38;5;124menter v4:\u001b[39m\u001b[38;5;124m'\u001b[39m))\n\u001b[0;32m      2\u001b[0m \u001b[38;5;28mprint\u001b[39m(\u001b[38;5;28mtype\u001b[39m(v4))\n",
      "File \u001b[1;32m<string>:1\u001b[0m\n",
      "\u001b[1;31mNameError\u001b[0m: name 'apple' is not defined"
     ]
    }
   ],
   "source": [
    "v4=eval(input('enter v4:'))\n",
    "print(type(v4))"
   ]
  },
  {
   "cell_type": "code",
   "execution_count": 9,
   "id": "b9b030e8",
   "metadata": {},
   "outputs": [
    {
     "name": "stdout",
     "output_type": "stream",
     "text": [
      "the addition of 200 and 400 is 600\n",
      "the subtraction of 200 and 400 is -200\n",
      "the multiplication of 200 and 400 is 80000\n",
      "the division of 200 and 400 is 0.5\n"
     ]
    }
   ],
   "source": [
    "# eval concept\n",
    "val1=200\n",
    "val2=400\n",
    "add=val1+val2\n",
    "sub=val1-val2\n",
    "mul=val1*val2\n",
    "div=round(val1/val2,2)\n",
    "print('the addition of {} and {} is {}'.format(val1,val2,add))\n",
    "print('the subtraction of {} and {} is {}'.format(val1,val2,sub))\n",
    "print('the multiplication of {} and {} is {}'.format(val1,val2,mul))\n",
    "print('the division of {} and {} is {}'.format(val1,val2,div))"
   ]
  },
  {
   "cell_type": "code",
   "execution_count": null,
   "id": "70fa1b9f",
   "metadata": {},
   "outputs": [],
   "source": [
    "# take three numbers\n",
    "# a\n",
    "# b\n",
    "# c from the key board\n",
    "# find the sum and average"
   ]
  }
 ],
 "metadata": {
  "kernelspec": {
   "display_name": "Python 3 (ipykernel)",
   "language": "python",
   "name": "python3"
  },
  "language_info": {
   "codemirror_mode": {
    "name": "ipython",
    "version": 3
   },
   "file_extension": ".py",
   "mimetype": "text/x-python",
   "name": "python",
   "nbconvert_exporter": "python",
   "pygments_lexer": "ipython3",
   "version": "3.11.5"
  }
 },
 "nbformat": 4,
 "nbformat_minor": 5
}
