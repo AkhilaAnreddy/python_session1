{
 "cells": [
  {
   "cell_type": "markdown",
   "id": "d98ba653",
   "metadata": {},
   "source": [
    "# data types"
   ]
  },
  {
   "cell_type": "markdown",
   "id": "aee75707",
   "metadata": {},
   "source": [
    "- integer\n",
    "     - int\n",
    "- float\n",
    "     - float\n",
    "- strings\n",
    "     - str\n",
    "- boolean\n",
    "     - bool\n",
    "- complex conjugate\n",
    "     - complex"
   ]
  },
  {
   "cell_type": "markdown",
   "id": "235344a9",
   "metadata": {},
   "source": [
    "# integer"
   ]
  },
  {
   "cell_type": "code",
   "execution_count": 1,
   "id": "29e90105",
   "metadata": {},
   "outputs": [
    {
     "data": {
      "text/plain": [
       "100"
      ]
     },
     "execution_count": 1,
     "metadata": {},
     "output_type": "execute_result"
    }
   ],
   "source": [
    "number=100\n",
    "number"
   ]
  },
  {
   "cell_type": "code",
   "execution_count": 2,
   "id": "295a488c",
   "metadata": {},
   "outputs": [
    {
     "data": {
      "text/plain": [
       "int"
      ]
     },
     "execution_count": 2,
     "metadata": {},
     "output_type": "execute_result"
    }
   ],
   "source": [
    "# type of the variable : type\n",
    "type(number)"
   ]
  },
  {
   "cell_type": "markdown",
   "id": "e640dda6",
   "metadata": {},
   "source": [
    "# in maths we have different number system"
   ]
  },
  {
   "cell_type": "markdown",
   "id": "cd2e5ff0",
   "metadata": {},
   "source": [
    "- decimal\n",
    "- binary\n",
    "- octal\n",
    "- hexa"
   ]
  },
  {
   "cell_type": "markdown",
   "id": "130ef22b",
   "metadata": {},
   "source": [
    "# binary"
   ]
  },
  {
   "cell_type": "markdown",
   "id": "faeeaecd",
   "metadata": {},
   "source": [
    "- bi mean 2\n",
    "- so the base is also 2\n",
    "- 0 1 2 3 4 5 6 7 8 9\n",
    "- here will use only two digits : 0 and 1\n",
    "- representation is : 0b<combination of 0 and 1>\n",
    "- 0b110 , 0B011101"
   ]
  },
  {
   "cell_type": "code",
   "execution_count": 3,
   "id": "8147c494",
   "metadata": {},
   "outputs": [
    {
     "data": {
      "text/plain": [
       "7"
      ]
     },
     "execution_count": 3,
     "metadata": {},
     "output_type": "execute_result"
    }
   ],
   "source": [
    "0b111\n",
    "# python output will come as decimal format only"
   ]
  },
  {
   "cell_type": "code",
   "execution_count": 4,
   "id": "415f5695",
   "metadata": {},
   "outputs": [
    {
     "data": {
      "text/plain": [
       "15"
      ]
     },
     "execution_count": 4,
     "metadata": {},
     "output_type": "execute_result"
    }
   ],
   "source": [
    "0b1111"
   ]
  },
  {
   "cell_type": "code",
   "execution_count": null,
   "id": "ed95a136",
   "metadata": {},
   "outputs": [],
   "source": [
    "# 3 digits = 4  2  1\n",
    "# 4 digits = 8  4  2  1\n",
    "# 5 digits = 16 8  4  2  1\n",
    "*******************************************\n",
    "4     2      1         decimal output\n",
    "*******************************************\n",
    "0        0        0        0\n",
    "0        0        1        1\n",
    "0        1        0        2\n",
    "0        1        1        3\n",
    "1        0        0        4\n",
    "1        0        1        5\n",
    "1        1        0        6\n",
    "1        1        1        7\n",
    "\n",
    "4 = 4 times 0 and 4 times 1 will come\n",
    "2 = 2 times 0 and 2 time 1\n",
    "1 = 1 times 0 and 1 time 1\n",
    "\n",
    "ON = 1\n",
    "OFF = 0"
   ]
  },
  {
   "cell_type": "code",
   "execution_count": null,
   "id": "d3a549a6",
   "metadata": {},
   "outputs": [],
   "source": [
    "     ******************************************************\n",
    "8      4       2       1        decimal output\n",
    "     ******************************************************\n",
    "0      0       0       0        0\n",
    "0      0       0       1        1\n",
    "0      0       1       0        2\n",
    "0      0       1       1        3\n",
    "0      1       0       0        4\n",
    "0      1       0       1        5\n",
    "0      1       1       0        6\n",
    "0      1       1       1        7\n",
    "1      0       0       0        8\n",
    "1      0       0       1        9\n",
    "1      0       1       0        10\n",
    "1      0       1       1        11\n",
    "1      1       0       0        12\n",
    "1      1       0       1        13\n",
    "1      1       1       0        14\n",
    "1      1       1       1        15\n"
   ]
  },
  {
   "cell_type": "code",
   "execution_count": 5,
   "id": "11d79f15",
   "metadata": {},
   "outputs": [
    {
     "data": {
      "text/plain": [
       "14"
      ]
     },
     "execution_count": 5,
     "metadata": {},
     "output_type": "execute_result"
    }
   ],
   "source": [
    "0b1110"
   ]
  },
  {
   "cell_type": "code",
   "execution_count": 6,
   "id": "c475e662",
   "metadata": {},
   "outputs": [
    {
     "data": {
      "text/plain": [
       "9"
      ]
     },
     "execution_count": 6,
     "metadata": {},
     "output_type": "execute_result"
    }
   ],
   "source": [
    "0b1001"
   ]
  },
  {
   "cell_type": "markdown",
   "id": "b33ea32e",
   "metadata": {},
   "source": [
    "# octa"
   ]
  },
  {
   "cell_type": "markdown",
   "id": "f91e684e",
   "metadata": {},
   "source": [
    "- octa mean 8\n",
    "- so the base is also 8\n",
    "- 0 1 2 3 4 5 6 7 8 9\n",
    "- here will use only 8 digits : 0,1,2,3,4,5,6,7 (0 to 7 means 8 digits)\n",
    "- representation is : 0o<combinations of 0 to 7>\n",
    "- 0o123 , 0O7564"
   ]
  },
  {
   "cell_type": "code",
   "execution_count": 11,
   "id": "e7e7faa8",
   "metadata": {},
   "outputs": [
    {
     "data": {
      "text/plain": [
       "83"
      ]
     },
     "execution_count": 11,
     "metadata": {},
     "output_type": "execute_result"
    }
   ],
   "source": [
    "0o123"
   ]
  },
  {
   "cell_type": "code",
   "execution_count": 12,
   "id": "bc4661d0",
   "metadata": {},
   "outputs": [
    {
     "data": {
      "text/plain": [
       "494"
      ]
     },
     "execution_count": 12,
     "metadata": {},
     "output_type": "execute_result"
    }
   ],
   "source": [
    "0O756"
   ]
  },
  {
   "cell_type": "code",
   "execution_count": 13,
   "id": "df89855e",
   "metadata": {},
   "outputs": [
    {
     "data": {
      "text/plain": [
       "373"
      ]
     },
     "execution_count": 13,
     "metadata": {},
     "output_type": "execute_result"
    }
   ],
   "source": [
    "0o565"
   ]
  },
  {
   "cell_type": "markdown",
   "id": "3bdcc06a",
   "metadata": {},
   "source": [
    "# hexa"
   ]
  },
  {
   "cell_type": "markdown",
   "id": "ac626679",
   "metadata": {},
   "source": [
    "- hexa mean 16\n",
    "- so the base is also 16\n",
    "- 0 1 2 3 4 5 6 7 8 9,A, B, C, D,E,F\n",
    "- here will use only 16 digits:(0 to 9 and A to F)\n",
    "- 0xabc,0X9DF"
   ]
  },
  {
   "cell_type": "code",
   "execution_count": 14,
   "id": "ba5130b7",
   "metadata": {},
   "outputs": [
    {
     "data": {
      "text/plain": [
       "2748"
      ]
     },
     "execution_count": 14,
     "metadata": {},
     "output_type": "execute_result"
    }
   ],
   "source": [
    "0xabc"
   ]
  },
  {
   "cell_type": "markdown",
   "id": "49d95415",
   "metadata": {},
   "source": [
    "# float"
   ]
  },
  {
   "cell_type": "code",
   "execution_count": 15,
   "id": "3c3c9d9e",
   "metadata": {},
   "outputs": [
    {
     "data": {
      "text/plain": [
       "123.5"
      ]
     },
     "execution_count": 15,
     "metadata": {},
     "output_type": "execute_result"
    }
   ],
   "source": [
    "number1=123.5\n",
    "number1"
   ]
  },
  {
   "cell_type": "code",
   "execution_count": 16,
   "id": "a3fe3d2c",
   "metadata": {},
   "outputs": [
    {
     "data": {
      "text/plain": [
       "float"
      ]
     },
     "execution_count": 16,
     "metadata": {},
     "output_type": "execute_result"
    }
   ],
   "source": [
    "type(number1)"
   ]
  },
  {
   "cell_type": "markdown",
   "id": "bedbd723",
   "metadata": {},
   "source": [
    "# e representation"
   ]
  },
  {
   "cell_type": "code",
   "execution_count": 17,
   "id": "16db1fad",
   "metadata": {},
   "outputs": [
    {
     "data": {
      "text/plain": [
       "10000.0"
      ]
     },
     "execution_count": 17,
     "metadata": {},
     "output_type": "execute_result"
    }
   ],
   "source": [
    "10e3        # 10*1000=10000"
   ]
  },
  {
   "cell_type": "code",
   "execution_count": 18,
   "id": "12032e7e",
   "metadata": {},
   "outputs": [
    {
     "data": {
      "text/plain": [
       "10000.0"
      ]
     },
     "execution_count": 18,
     "metadata": {},
     "output_type": "execute_result"
    }
   ],
   "source": [
    "10e+3         # 10e3 and 10e+3 both are same"
   ]
  },
  {
   "cell_type": "code",
   "execution_count": 19,
   "id": "635966b8",
   "metadata": {},
   "outputs": [
    {
     "data": {
      "text/plain": [
       "100000.0"
      ]
     },
     "execution_count": 19,
     "metadata": {},
     "output_type": "execute_result"
    }
   ],
   "source": [
    "1e5        # 1*100000"
   ]
  },
  {
   "cell_type": "code",
   "execution_count": 20,
   "id": "629d0e80",
   "metadata": {},
   "outputs": [
    {
     "data": {
      "text/plain": [
       "0.01"
      ]
     },
     "execution_count": 20,
     "metadata": {},
     "output_type": "execute_result"
    }
   ],
   "source": [
    "10e-3        # 10/1000=1/100=0.01"
   ]
  },
  {
   "cell_type": "code",
   "execution_count": null,
   "id": "46416cba",
   "metadata": {},
   "outputs": [],
   "source": [
    "# ML ==== output as zero\n",
    "# 0.0000000000000000000123\n",
    "# 123e-10 = 123/10000000000=0.0000000000123"
   ]
  },
  {
   "cell_type": "code",
   "execution_count": 21,
   "id": "cd864326",
   "metadata": {},
   "outputs": [
    {
     "data": {
      "text/plain": [
       "0.001"
      ]
     },
     "execution_count": 21,
     "metadata": {},
     "output_type": "execute_result"
    }
   ],
   "source": [
    "100e-5        # 1000/100000"
   ]
  },
  {
   "cell_type": "code",
   "execution_count": 22,
   "id": "c449b28f",
   "metadata": {},
   "outputs": [
    {
     "data": {
      "text/plain": [
       "1e-05"
      ]
     },
     "execution_count": 22,
     "metadata": {},
     "output_type": "execute_result"
    }
   ],
   "source": [
    "10e-6"
   ]
  },
  {
   "cell_type": "markdown",
   "id": "140ffc94",
   "metadata": {},
   "source": [
    "# strings"
   ]
  },
  {
   "cell_type": "code",
   "execution_count": 23,
   "id": "c0928074",
   "metadata": {},
   "outputs": [
    {
     "data": {
      "text/plain": [
       "str"
      ]
     },
     "execution_count": 23,
     "metadata": {},
     "output_type": "execute_result"
    }
   ],
   "source": [
    "name=\"python\"        # write any thing in quotes\n",
    "type(name)"
   ]
  },
  {
   "cell_type": "code",
   "execution_count": 24,
   "id": "804a79c4",
   "metadata": {},
   "outputs": [
    {
     "data": {
      "text/plain": [
       "str"
      ]
     },
     "execution_count": 24,
     "metadata": {},
     "output_type": "execute_result"
    }
   ],
   "source": [
    "name1=\"100\"\n",
    "type(name1)"
   ]
  },
  {
   "cell_type": "code",
   "execution_count": 25,
   "id": "9a119c15",
   "metadata": {},
   "outputs": [
    {
     "data": {
      "text/plain": [
       "'how are you'"
      ]
     },
     "execution_count": 25,
     "metadata": {},
     "output_type": "execute_result"
    }
   ],
   "source": [
    "name2='how are you'\n",
    "name2"
   ]
  },
  {
   "cell_type": "code",
   "execution_count": null,
   "id": "c7525c0b",
   "metadata": {},
   "outputs": [],
   "source": [
    "# hai\n",
    "# how are you\n",
    "\n",
    "# write above sentence in the one string\n",
    "# when you call your output should line be lie\n",
    "/n    /t"
   ]
  },
  {
   "cell_type": "code",
   "execution_count": 26,
   "id": "32bb6944",
   "metadata": {},
   "outputs": [
    {
     "ename": "SyntaxError",
     "evalue": "unterminated string literal (detected at line 1) (373100525.py, line 1)",
     "output_type": "error",
     "traceback": [
      "\u001b[1;36m  Cell \u001b[1;32mIn[26], line 1\u001b[1;36m\u001b[0m\n\u001b[1;33m    name3=\"hai\u001b[0m\n\u001b[1;37m          ^\u001b[0m\n\u001b[1;31mSyntaxError\u001b[0m\u001b[1;31m:\u001b[0m unterminated string literal (detected at line 1)\n"
     ]
    }
   ],
   "source": [
    "name3=\"hai\n",
    "       how are you\"\n",
    "    \n",
    "name3"
   ]
  },
  {
   "cell_type": "code",
   "execution_count": 27,
   "id": "8076cbcd",
   "metadata": {},
   "outputs": [
    {
     "ename": "SyntaxError",
     "evalue": "unterminated string literal (detected at line 1) (4277560463.py, line 1)",
     "output_type": "error",
     "traceback": [
      "\u001b[1;36m  Cell \u001b[1;32mIn[27], line 1\u001b[1;36m\u001b[0m\n\u001b[1;33m    name4='hai\u001b[0m\n\u001b[1;37m          ^\u001b[0m\n\u001b[1;31mSyntaxError\u001b[0m\u001b[1;31m:\u001b[0m unterminated string literal (detected at line 1)\n"
     ]
    }
   ],
   "source": [
    "name4='hai\n",
    "       how are you'\n",
    "name4"
   ]
  },
  {
   "cell_type": "code",
   "execution_count": 28,
   "id": "eb584eb1",
   "metadata": {},
   "outputs": [
    {
     "data": {
      "text/plain": [
       "'hai\\n         how are you'"
      ]
     },
     "execution_count": 28,
     "metadata": {},
     "output_type": "execute_result"
    }
   ],
   "source": [
    "# whenever you want write multi lines use triple quotes\n",
    "name6=\"\"\"hai\n",
    "         how are you\"\"\"\n",
    "name6\n",
    "# doc string"
   ]
  },
  {
   "cell_type": "code",
   "execution_count": null,
   "id": "d47933c1",
   "metadata": {},
   "outputs": [],
   "source": [
    "# doc string is very important\n",
    "# jupyter notebook : markdown option\n",
    "# vs code pycharm : doc string"
   ]
  },
  {
   "cell_type": "code",
   "execution_count": 29,
   "id": "901c9b82",
   "metadata": {},
   "outputs": [
    {
     "ename": "TypeError",
     "evalue": "Random.randint() missing 2 required positional arguments: 'a' and 'b'",
     "output_type": "error",
     "traceback": [
      "\u001b[1;31m---------------------------------------------------------------------------\u001b[0m",
      "\u001b[1;31mTypeError\u001b[0m                                 Traceback (most recent call last)",
      "Cell \u001b[1;32mIn[29], line 2\u001b[0m\n\u001b[0;32m      1\u001b[0m \u001b[38;5;28;01mimport\u001b[39;00m \u001b[38;5;21;01mrandom\u001b[39;00m\n\u001b[1;32m----> 2\u001b[0m random\u001b[38;5;241m.\u001b[39mrandint()\n",
      "\u001b[1;31mTypeError\u001b[0m: Random.randint() missing 2 required positional arguments: 'a' and 'b'"
     ]
    }
   ],
   "source": [
    "import random\n",
    "random.randint()"
   ]
  },
  {
   "cell_type": "code",
   "execution_count": 30,
   "id": "43ed5ae7",
   "metadata": {},
   "outputs": [
    {
     "data": {
      "text/plain": [
       "'my name is python'"
      ]
     },
     "execution_count": 30,
     "metadata": {},
     "output_type": "execute_result"
    }
   ],
   "source": [
    "\"\"\"my name is python\"\"\""
   ]
  },
  {
   "cell_type": "code",
   "execution_count": 31,
   "id": "cae6984d",
   "metadata": {},
   "outputs": [
    {
     "data": {
      "text/plain": [
       "50"
      ]
     },
     "execution_count": 31,
     "metadata": {},
     "output_type": "execute_result"
    }
   ],
   "source": [
    "\"\"\"\n",
    "i have taken 20 in a\n",
    "i have taken 30 in b\n",
    "im cal\n",
    "\"\"\"\n",
    "a=20\n",
    "b=30\n",
    "a+b"
   ]
  },
  {
   "cell_type": "code",
   "execution_count": null,
   "id": "33126ae1",
   "metadata": {},
   "outputs": [],
   "source": [
    "import random\n",
    "random.randint()"
   ]
  },
  {
   "cell_type": "code",
   "execution_count": null,
   "id": "1a81fac5",
   "metadata": {},
   "outputs": [],
   "source": [
    "# integer\n",
    "    # binary\n",
    "    # octal\n",
    "    # hexa\n",
    "# float\n",
    "# string\n",
    "    # single quotes\n",
    "    # double quotes\n",
    "    # triple quotes"
   ]
  },
  {
   "cell_type": "code",
   "execution_count": 32,
   "id": "a38889c9",
   "metadata": {},
   "outputs": [
    {
     "data": {
      "text/plain": [
       "'python'"
      ]
     },
     "execution_count": 32,
     "metadata": {},
     "output_type": "execute_result"
    }
   ],
   "source": [
    "string1='python'\n",
    "string1"
   ]
  },
  {
   "cell_type": "code",
   "execution_count": 33,
   "id": "a54ad6c0",
   "metadata": {},
   "outputs": [
    {
     "data": {
      "text/plain": [
       "'good morning'"
      ]
     },
     "execution_count": 33,
     "metadata": {},
     "output_type": "execute_result"
    }
   ],
   "source": [
    "string2='good morning'\n",
    "string2"
   ]
  },
  {
   "cell_type": "code",
   "execution_count": null,
   "id": "f1b03159",
   "metadata": {},
   "outputs": [],
   "source": [
    "# triple quotes ==== doc string\n",
    "# you are writing some information\n",
    "string3=\"\"\"how are you\"\"\""
   ]
  },
  {
   "cell_type": "markdown",
   "id": "2fa30a76",
   "metadata": {},
   "source": [
    "# boolean"
   ]
  },
  {
   "cell_type": "code",
   "execution_count": null,
   "id": "e9ce5b83",
   "metadata": {},
   "outputs": [],
   "source": [
    "# whenever if you ask any question to the computer\n",
    "# what its reply? True or False\n",
    "# True=1\n",
    "# False=0\n",
    "\n",
    "True    # keyword\n",
    "False   # keyword"
   ]
  },
  {
   "cell_type": "code",
   "execution_count": 34,
   "id": "91b1417c",
   "metadata": {},
   "outputs": [
    {
     "data": {
      "text/plain": [
       "False"
      ]
     },
     "execution_count": 34,
     "metadata": {},
     "output_type": "execute_result"
    }
   ],
   "source": [
    "value=False    # we are assigning false in a variable value\n",
    "value"
   ]
  },
  {
   "cell_type": "code",
   "execution_count": 35,
   "id": "616ec493",
   "metadata": {},
   "outputs": [
    {
     "data": {
      "text/plain": [
       "bool"
      ]
     },
     "execution_count": 35,
     "metadata": {},
     "output_type": "execute_result"
    }
   ],
   "source": [
    "type(value)"
   ]
  },
  {
   "cell_type": "code",
   "execution_count": 36,
   "id": "cda7fb8e",
   "metadata": {},
   "outputs": [
    {
     "data": {
      "text/plain": [
       "bool"
      ]
     },
     "execution_count": 36,
     "metadata": {},
     "output_type": "execute_result"
    }
   ],
   "source": [
    "val1=True\n",
    "type(val1)"
   ]
  },
  {
   "cell_type": "code",
   "execution_count": null,
   "id": "7646b995",
   "metadata": {},
   "outputs": [],
   "source": [
    "name1=True    # boolean\n",
    "name2=true    # both are variables\n",
    "name3=\"True\"    # string"
   ]
  },
  {
   "cell_type": "code",
   "execution_count": 37,
   "id": "f02e11c7",
   "metadata": {},
   "outputs": [
    {
     "ename": "NameError",
     "evalue": "name 'true' is not defined",
     "output_type": "error",
     "traceback": [
      "\u001b[1;31m---------------------------------------------------------------------------\u001b[0m",
      "\u001b[1;31mNameError\u001b[0m                                 Traceback (most recent call last)",
      "Cell \u001b[1;32mIn[37], line 1\u001b[0m\n\u001b[1;32m----> 1\u001b[0m name2\u001b[38;5;241m=\u001b[39mtrue\n",
      "\u001b[1;31mNameError\u001b[0m: name 'true' is not defined"
     ]
    }
   ],
   "source": [
    "name2=true\n",
    "\n",
    "# have you defined true before?\n",
    "# i did not defined true,thats why Im not able to use that"
   ]
  },
  {
   "cell_type": "code",
   "execution_count": 38,
   "id": "c7f955f9",
   "metadata": {},
   "outputs": [
    {
     "data": {
      "text/plain": [
       "100"
      ]
     },
     "execution_count": 38,
     "metadata": {},
     "output_type": "execute_result"
    }
   ],
   "source": [
    "true=100    # 100 is saving in a variable true\n",
    "name2=true  # true is saving in a variable name2\n",
    "name2       # so name2 = 100"
   ]
  },
  {
   "cell_type": "code",
   "execution_count": 40,
   "id": "35be6736",
   "metadata": {},
   "outputs": [
    {
     "data": {
      "text/plain": [
       "500"
      ]
     },
     "execution_count": 40,
     "metadata": {},
     "output_type": "execute_result"
    }
   ],
   "source": [
    "a=100        # 100 saved in a\n",
    "b=200        # 200 saved in b\n",
    "a=b          # b is saved in a=200  100=200\n",
    "b=a          # a is saved in b= 200\n",
    "a=500        # 500 saved in a=500\n",
    "b=a          # a is saved in b=500\n",
    "b=900        # 900 is saved in b=900\n",
    "a            # latest value = 500\n",
    "\n",
    "100 ----> 200 ----> 500\n",
    "200 ----> 200 ----> 500 ----> 900"
   ]
  },
  {
   "cell_type": "code",
   "execution_count": 41,
   "id": "6f485f60",
   "metadata": {},
   "outputs": [
    {
     "data": {
      "text/plain": [
       "900"
      ]
     },
     "execution_count": 41,
     "metadata": {},
     "output_type": "execute_result"
    }
   ],
   "source": [
    "b"
   ]
  },
  {
   "cell_type": "code",
   "execution_count": 42,
   "id": "482c53b7",
   "metadata": {},
   "outputs": [
    {
     "ename": "SyntaxError",
     "evalue": "cannot assign to literal here. Maybe you meant '==' instead of '='? (1264476663.py, line 2)",
     "output_type": "error",
     "traceback": [
      "\u001b[1;36m  Cell \u001b[1;32mIn[42], line 2\u001b[1;36m\u001b[0m\n\u001b[1;33m    100=200\u001b[0m\n\u001b[1;37m    ^\u001b[0m\n\u001b[1;31mSyntaxError\u001b[0m\u001b[1;31m:\u001b[0m cannot assign to literal here. Maybe you meant '==' instead of '='?\n"
     ]
    }
   ],
   "source": [
    "left=right\n",
    "100=200"
   ]
  },
  {
   "cell_type": "markdown",
   "id": "e2dc5ef0",
   "metadata": {},
   "source": [
    "# complex-conjugate"
   ]
  },
  {
   "cell_type": "markdown",
   "id": "1159d3d7",
   "metadata": {},
   "source": [
    "- a+jb or a+ib\n",
    "- where a = real number\n",
    "- b = imaginary number\n",
    "- i = sqrt(-1)"
   ]
  },
  {
   "cell_type": "code",
   "execution_count": 43,
   "id": "1ccd63ec",
   "metadata": {},
   "outputs": [
    {
     "data": {
      "text/plain": [
       "(3+5j)"
      ]
     },
     "execution_count": 43,
     "metadata": {},
     "output_type": "execute_result"
    }
   ],
   "source": [
    "number = 3+5j\n",
    "number"
   ]
  },
  {
   "cell_type": "code",
   "execution_count": 44,
   "id": "889fc1ab",
   "metadata": {},
   "outputs": [
    {
     "data": {
      "text/plain": [
       "complex"
      ]
     },
     "execution_count": 44,
     "metadata": {},
     "output_type": "execute_result"
    }
   ],
   "source": [
    "type(number)"
   ]
  },
  {
   "cell_type": "code",
   "execution_count": 45,
   "id": "02a5076b",
   "metadata": {},
   "outputs": [
    {
     "data": {
      "text/plain": [
       "(3-5j)"
      ]
     },
     "execution_count": 45,
     "metadata": {},
     "output_type": "execute_result"
    }
   ],
   "source": [
    "number1 = 3-5j\n",
    "number1"
   ]
  },
  {
   "cell_type": "code",
   "execution_count": null,
   "id": "f801e244",
   "metadata": {},
   "outputs": [],
   "source": [
    "# if i want to retrive only real value seperately\n",
    "# 3+5j\n",
    "# 3 is the real value\n",
    "# 5 is the imaginary value"
   ]
  },
  {
   "cell_type": "code",
   "execution_count": 46,
   "id": "1db39c56",
   "metadata": {},
   "outputs": [
    {
     "data": {
      "text/plain": [
       "(3+5j)"
      ]
     },
     "execution_count": 46,
     "metadata": {},
     "output_type": "execute_result"
    }
   ],
   "source": [
    "number=3+5j\n",
    "number"
   ]
  },
  {
   "cell_type": "code",
   "execution_count": 47,
   "id": "876287a9",
   "metadata": {},
   "outputs": [
    {
     "data": {
      "text/plain": [
       "['__abs__',\n",
       " '__add__',\n",
       " '__bool__',\n",
       " '__class__',\n",
       " '__complex__',\n",
       " '__delattr__',\n",
       " '__dir__',\n",
       " '__doc__',\n",
       " '__eq__',\n",
       " '__format__',\n",
       " '__ge__',\n",
       " '__getattribute__',\n",
       " '__getnewargs__',\n",
       " '__getstate__',\n",
       " '__gt__',\n",
       " '__hash__',\n",
       " '__init__',\n",
       " '__init_subclass__',\n",
       " '__le__',\n",
       " '__lt__',\n",
       " '__mul__',\n",
       " '__ne__',\n",
       " '__neg__',\n",
       " '__new__',\n",
       " '__pos__',\n",
       " '__pow__',\n",
       " '__radd__',\n",
       " '__reduce__',\n",
       " '__reduce_ex__',\n",
       " '__repr__',\n",
       " '__rmul__',\n",
       " '__rpow__',\n",
       " '__rsub__',\n",
       " '__rtruediv__',\n",
       " '__setattr__',\n",
       " '__sizeof__',\n",
       " '__str__',\n",
       " '__sub__',\n",
       " '__subclasshook__',\n",
       " '__truediv__',\n",
       " 'conjugate',\n",
       " 'imag',\n",
       " 'real']"
      ]
     },
     "execution_count": 47,
     "metadata": {},
     "output_type": "execute_result"
    }
   ],
   "source": [
    "dir(number)"
   ]
  },
  {
   "cell_type": "code",
   "execution_count": 48,
   "id": "3513cb01",
   "metadata": {},
   "outputs": [
    {
     "data": {
      "text/plain": [
       "3.0"
      ]
     },
     "execution_count": 48,
     "metadata": {},
     "output_type": "execute_result"
    }
   ],
   "source": [
    "number.real        # <pname>.<method>"
   ]
  },
  {
   "cell_type": "code",
   "execution_count": 49,
   "id": "809d1216",
   "metadata": {},
   "outputs": [
    {
     "data": {
      "text/plain": [
       "5.0"
      ]
     },
     "execution_count": 49,
     "metadata": {},
     "output_type": "execute_result"
    }
   ],
   "source": [
    "number.imag"
   ]
  },
  {
   "cell_type": "code",
   "execution_count": 50,
   "id": "1c31d239",
   "metadata": {},
   "outputs": [
    {
     "data": {
      "text/plain": [
       "(3-5j)"
      ]
     },
     "execution_count": 50,
     "metadata": {},
     "output_type": "execute_result"
    }
   ],
   "source": [
    "number.conjugate()\n",
    "\n",
    "# + become -\n",
    "# - become +"
   ]
  },
  {
   "cell_type": "code",
   "execution_count": 52,
   "id": "76a1ee77",
   "metadata": {},
   "outputs": [
    {
     "data": {
      "text/plain": [
       "(3-5j)"
      ]
     },
     "execution_count": 52,
     "metadata": {},
     "output_type": "execute_result"
    }
   ],
   "source": [
    "number.conjugate()"
   ]
  },
  {
   "cell_type": "code",
   "execution_count": 53,
   "id": "0bb8f1db",
   "metadata": {},
   "outputs": [],
   "source": [
    "number1=3-5j\n",
    "# number1.real = 3\n",
    "# number1.imag = -5\n",
    "# number1.conjugate = 3+5j"
   ]
  },
  {
   "cell_type": "code",
   "execution_count": null,
   "id": "e6c772e0",
   "metadata": {},
   "outputs": [],
   "source": [
    "3-5j ====> 3"
   ]
  },
  {
   "cell_type": "code",
   "execution_count": 54,
   "id": "21d035ff",
   "metadata": {},
   "outputs": [
    {
     "data": {
      "text/plain": [
       "(4+10j)"
      ]
     },
     "execution_count": 54,
     "metadata": {},
     "output_type": "execute_result"
    }
   ],
   "source": [
    "complex(4,10)\n",
    "# real = 4\n",
    "# imag = 10\n",
    "# 4+10j"
   ]
  },
  {
   "cell_type": "code",
   "execution_count": 55,
   "id": "c1787a65",
   "metadata": {},
   "outputs": [
    {
     "data": {
      "text/plain": [
       "(4-10j)"
      ]
     },
     "execution_count": 55,
     "metadata": {},
     "output_type": "execute_result"
    }
   ],
   "source": [
    "complex(4,-10)\n",
    "# inside bracket what you are seeing\n",
    "# parameters/arguments"
   ]
  },
  {
   "cell_type": "code",
   "execution_count": 56,
   "id": "b88a5709",
   "metadata": {},
   "outputs": [
    {
     "data": {
      "text/plain": [
       "0j"
      ]
     },
     "execution_count": 56,
     "metadata": {},
     "output_type": "execute_result"
    }
   ],
   "source": [
    "complex()        # if i did not provide anything inside"
   ]
  },
  {
   "cell_type": "markdown",
   "id": "7bf6f602",
   "metadata": {},
   "source": [
    "- whenever if you see any brackets(),that is called function\n",
    "- another name of function is called method\n",
    "- inside brackets what you are seeing is called parameters\n",
    "- another name for parameters is arguments"
   ]
  },
  {
   "cell_type": "code",
   "execution_count": 57,
   "id": "88b5d82d",
   "metadata": {},
   "outputs": [
    {
     "data": {
      "text/plain": [
       "79"
      ]
     },
     "execution_count": 57,
     "metadata": {},
     "output_type": "execute_result"
    }
   ],
   "source": [
    "import random\n",
    "random.randint(1,100)"
   ]
  },
  {
   "cell_type": "code",
   "execution_count": 58,
   "id": "9b69cdb5",
   "metadata": {},
   "outputs": [
    {
     "ename": "TypeError",
     "evalue": "math.sin() takes exactly one argument (0 given)",
     "output_type": "error",
     "traceback": [
      "\u001b[1;31m---------------------------------------------------------------------------\u001b[0m",
      "\u001b[1;31mTypeError\u001b[0m                                 Traceback (most recent call last)",
      "Cell \u001b[1;32mIn[58], line 2\u001b[0m\n\u001b[0;32m      1\u001b[0m \u001b[38;5;28;01mimport\u001b[39;00m \u001b[38;5;21;01mmath\u001b[39;00m\n\u001b[1;32m----> 2\u001b[0m math\u001b[38;5;241m.\u001b[39msin()\n",
      "\u001b[1;31mTypeError\u001b[0m: math.sin() takes exactly one argument (0 given)"
     ]
    }
   ],
   "source": [
    "import math\n",
    "math.sin()"
   ]
  },
  {
   "cell_type": "code",
   "execution_count": 59,
   "id": "50910aec",
   "metadata": {},
   "outputs": [
    {
     "data": {
      "text/plain": [
       "0j"
      ]
     },
     "execution_count": 59,
     "metadata": {},
     "output_type": "execute_result"
    }
   ],
   "source": [
    "complex()\n",
    "\n",
    "# default arguments\n",
    "\n",
    "# if you not provide anything inside bracket\n",
    "# i will use real value as 0\n",
    "# imaginary value also 0\n",
    "# 0+0j ====> 0j only"
   ]
  },
  {
   "cell_type": "code",
   "execution_count": null,
   "id": "21151ec3",
   "metadata": {},
   "outputs": [],
   "source": [
    "A) 0+0j\n",
    "B) 0j\n",
    "C) 0-0j\n",
    "D) 0\n",
    "E) error"
   ]
  },
  {
   "cell_type": "code",
   "execution_count": null,
   "id": "6c018123",
   "metadata": {},
   "outputs": [],
   "source": [
    "A) random.randint()    # error is it necessary to provide arguments\n",
    "B) math.sin()          # error is it necessary to provide arguments\n",
    "C) complex()           # no error"
   ]
  },
  {
   "cell_type": "code",
   "execution_count": null,
   "id": "afeea8ed",
   "metadata": {},
   "outputs": [],
   "source": [
    "random.randint(a,b)\n",
    "math.sin(x,/)\n",
    "complex(real=0,imag=0)"
   ]
  },
  {
   "cell_type": "code",
   "execution_count": 4,
   "id": "9a4131f9",
   "metadata": {},
   "outputs": [
    {
     "ename": "NameError",
     "evalue": "name 'random' is not defined",
     "output_type": "error",
     "traceback": [
      "\u001b[1;31m---------------------------------------------------------------------------\u001b[0m",
      "\u001b[1;31mNameError\u001b[0m                                 Traceback (most recent call last)",
      "Cell \u001b[1;32mIn[4], line 1\u001b[0m\n\u001b[1;32m----> 1\u001b[0m random\u001b[38;5;241m.\u001b[39mrandint()\n",
      "\u001b[1;31mNameError\u001b[0m: name 'random' is not defined"
     ]
    }
   ],
   "source": [
    "random.randint()"
   ]
  },
  {
   "cell_type": "code",
   "execution_count": 5,
   "id": "517b7857",
   "metadata": {},
   "outputs": [
    {
     "ename": "NameError",
     "evalue": "name 'math' is not defined",
     "output_type": "error",
     "traceback": [
      "\u001b[1;31m---------------------------------------------------------------------------\u001b[0m",
      "\u001b[1;31mNameError\u001b[0m                                 Traceback (most recent call last)",
      "Cell \u001b[1;32mIn[5], line 1\u001b[0m\n\u001b[1;32m----> 1\u001b[0m math\u001b[38;5;241m.\u001b[39msin()\n",
      "\u001b[1;31mNameError\u001b[0m: name 'math' is not defined"
     ]
    }
   ],
   "source": [
    "math.sin()"
   ]
  },
  {
   "cell_type": "code",
   "execution_count": 6,
   "id": "293ddf86",
   "metadata": {},
   "outputs": [
    {
     "data": {
      "text/plain": [
       "0j"
      ]
     },
     "execution_count": 6,
     "metadata": {},
     "output_type": "execute_result"
    }
   ],
   "source": [
    "complex()"
   ]
  },
  {
   "cell_type": "code",
   "execution_count": null,
   "id": "83eba423",
   "metadata": {},
   "outputs": [],
   "source": [
    "# packages\n",
    "# methods\n",
    "# parameters"
   ]
  },
  {
   "cell_type": "markdown",
   "id": "071f9d28",
   "metadata": {},
   "source": [
    "- int\n",
    "- float\n",
    "- str\n",
    "- bool\n",
    "- complex"
   ]
  },
  {
   "cell_type": "code",
   "execution_count": null,
   "id": "be940f00",
   "metadata": {},
   "outputs": [],
   "source": []
  }
 ],
 "metadata": {
  "kernelspec": {
   "display_name": "Python 3 (ipykernel)",
   "language": "python",
   "name": "python3"
  },
  "language_info": {
   "codemirror_mode": {
    "name": "ipython",
    "version": 3
   },
   "file_extension": ".py",
   "mimetype": "text/x-python",
   "name": "python",
   "nbconvert_exporter": "python",
   "pygments_lexer": "ipython3",
   "version": "3.11.5"
  }
 },
 "nbformat": 4,
 "nbformat_minor": 5
}
