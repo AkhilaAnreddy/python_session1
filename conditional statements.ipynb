{
 "cells": [
  {
   "cell_type": "code",
   "execution_count": null,
   "id": "be5209eb",
   "metadata": {},
   "outputs": [],
   "source": [
    "# im modifying the code"
   ]
  },
  {
   "cell_type": "code",
   "execution_count": null,
   "id": "a3fdb747",
   "metadata": {},
   "outputs": [],
   "source": [
    "if - else\n",
    "\n",
    "if pak won the match they have more chance to go to SF\n",
    "else they have more chance to go home\n",
    "\n",
    "if i study will pass\n",
    "else will fail"
   ]
  },
  {
   "cell_type": "code",
   "execution_count": null,
   "id": "ee31a4e9",
   "metadata": {},
   "outputs": [],
   "source": [
    "name='python'\n",
    "# i want to make some condition\n",
    "# whenever the name == python ====> success\n",
    "# otherwise ====> fail"
   ]
  },
  {
   "cell_type": "code",
   "execution_count": null,
   "id": "3d433142",
   "metadata": {},
   "outputs": [],
   "source": [
    "name='python'\n",
    "if <condition>:\n",
    "    # sta-1\n",
    "    # code\n",
    "else:\n",
    "    # code"
   ]
  },
  {
   "cell_type": "code",
   "execution_count": null,
   "id": "ce0da218",
   "metadata": {},
   "outputs": [],
   "source": [
    "name='python'    # name\n",
    "if name=='python':    # is the name really equal to python\n",
    "    print('won')"
   ]
  },
  {
   "cell_type": "code",
   "execution_count": null,
   "id": "bb3ccde3",
   "metadata": {},
   "outputs": [],
   "source": [
    "a=10        # value 10 stored in a variable'a'\n",
    "a==10       # the value of a really equal to 10"
   ]
  },
  {
   "cell_type": "markdown",
   "id": "1fcd96bb",
   "metadata": {},
   "source": [
    "**= assign**"
   ]
  },
  {
   "cell_type": "markdown",
   "id": "43cc0d26",
   "metadata": {},
   "source": [
    "**== condition**"
   ]
  },
  {
   "cell_type": "code",
   "execution_count": 2,
   "id": "73ed62b5",
   "metadata": {},
   "outputs": [
    {
     "data": {
      "text/plain": [
       "False"
      ]
     },
     "execution_count": 2,
     "metadata": {},
     "output_type": "execute_result"
    }
   ],
   "source": [
    "name='python'        # assign\n",
    "name=='py'           # condition"
   ]
  },
  {
   "cell_type": "code",
   "execution_count": null,
   "id": "fc50665d",
   "metadata": {},
   "outputs": [],
   "source": [
    "if <condition>:\n",
    "    \n",
    "if True/False:\n",
    "    inside the block"
   ]
  },
  {
   "cell_type": "code",
   "execution_count": 3,
   "id": "4e2f6d66",
   "metadata": {},
   "outputs": [
    {
     "name": "stdout",
     "output_type": "stream",
     "text": [
      "won\n"
     ]
    }
   ],
   "source": [
    "# True case\n",
    "name='python'        # 'python' is saved in a variable 'name'\n",
    "if name=='python':   # is the name really equal to python if True/False:\n",
    "    print('won')"
   ]
  },
  {
   "cell_type": "code",
   "execution_count": null,
   "id": "1f07b7cc",
   "metadata": {},
   "outputs": [],
   "source": [
    "# Error capture ====> my code should not stop\n",
    "# try:100 lines 50 line you got error\n",
    "# first 49 exec ==== 50 ====> exception"
   ]
  },
  {
   "cell_type": "code",
   "execution_count": 4,
   "id": "ce7d92c8",
   "metadata": {},
   "outputs": [],
   "source": [
    "# False case\n",
    "name='python'\n",
    "if name=='py':        # if <False>:no permission\n",
    "    a=10\n",
    "    b=20\n",
    "    print(a+b)"
   ]
  },
  {
   "cell_type": "code",
   "execution_count": 5,
   "id": "793220de",
   "metadata": {},
   "outputs": [
    {
     "name": "stdout",
     "output_type": "stream",
     "text": [
      "30\n"
     ]
    }
   ],
   "source": [
    "a=10\n",
    "b=20\n",
    "print(a+b)"
   ]
  },
  {
   "cell_type": "code",
   "execution_count": 6,
   "id": "cd26164e",
   "metadata": {},
   "outputs": [
    {
     "name": "stdout",
     "output_type": "stream",
     "text": [
      "lost\n"
     ]
    }
   ],
   "source": [
    "name='python'\n",
    "if name=='py':        # False:np\n",
    "    print('won')\n",
    "else:\n",
    "    print('lost')"
   ]
  },
  {
   "cell_type": "code",
   "execution_count": 7,
   "id": "183049ea",
   "metadata": {},
   "outputs": [
    {
     "name": "stdout",
     "output_type": "stream",
     "text": [
      "hello\n",
      "10\n",
      "enter a number:10\n",
      "enter a number:50\n",
      "This is false case\n",
      "we are doing multiplication\n",
      "The multiplication of 10 and 50 is: 500\n",
      "subtraction: -40\n",
      "great!\n"
     ]
    }
   ],
   "source": [
    "print('hello')\n",
    "print(10)\n",
    "num1=eval(input(\"enter a number:\"))\n",
    "num2=eval(input(\"enter a number:\"))\n",
    "if num1==num2:\n",
    "    print(\"This is True case\")\n",
    "    print(\"we are doing addition operation\")\n",
    "    print(\"The addition of {} and {} is:{}\".format(num1,num2,num1+num2))\n",
    "    print(\"Happy ending!\")\n",
    "else:\n",
    "    print(\"This is false case\")\n",
    "    print(\"we are doing multiplication\")\n",
    "    print(\"The multiplication of {} and {} is: {}\".format(num1,num2,num1*num2))\n",
    "subtraction=num1-num2\n",
    "print(\"subtraction:\",subtraction)\n",
    "print(\"great!\")\n",
    "\n",
    "# hello\n",
    "# 10\n",
    "# num1=enter the number:10\n",
    "# num2=enter the number:50\n",
    "# if 10==50 false np to enter inside the if block\n",
    "# else block\n",
    "# this false\n",
    "# we are doing mul\n",
    "# the multi 10 50 is 500\n",
    "# subtraction:-40\n",
    "# great"
   ]
  },
  {
   "cell_type": "code",
   "execution_count": 8,
   "id": "af043a59",
   "metadata": {},
   "outputs": [
    {
     "name": "stdout",
     "output_type": "stream",
     "text": [
      "hello\n",
      "10\n",
      "enter a number:40\n",
      "enter a number:40\n",
      "This is True case\n",
      "we are doing addition operation\n",
      "The addition of 40 and 40 is:80\n",
      "Happy ending!\n",
      "subtraction: 0\n",
      "great!\n"
     ]
    }
   ],
   "source": [
    "print('hello')\n",
    "print(10)\n",
    "num1=eval(input(\"enter a number:\"))\n",
    "num2=eval(input(\"enter a number:\"))\n",
    "if num1==num2:\n",
    "    print(\"This is True case\")\n",
    "    print(\"we are doing addition operation\")\n",
    "    print(\"The addition of {} and {} is:{}\".format(num1,num2,num1+num2))\n",
    "    print(\"Happy ending!\")\n",
    "else:\n",
    "    print(\"This is false case\")\n",
    "    print(\"we are doing multiplication\")\n",
    "    print(\"The multiplication of {} and {} is: {}\".format(num1,num2,num1*num2))\n",
    "subtraction=num1-num2\n",
    "print(\"subtraction:\",subtraction)\n",
    "print(\"great!\")\n",
    "\n",
    "# hello\n",
    "# 10\n",
    "# num1=enter the number:40\n",
    "# num2=enter the number:40\n",
    "# if 40==40 True\n",
    "# we are doing addition 40+40=80\n",
    "# happy ending\n",
    "# subtraction:0\n",
    "# great"
   ]
  },
  {
   "cell_type": "code",
   "execution_count": 9,
   "id": "962f502b",
   "metadata": {},
   "outputs": [
    {
     "data": {
      "text/plain": [
       "False"
      ]
     },
     "execution_count": 9,
     "metadata": {},
     "output_type": "execute_result"
    }
   ],
   "source": [
    "# wap ask the user enter a number\n",
    "# find the number is even or odd number\n",
    "# even number: if you divide with 2 the reminder is zero\n",
    "# odd number\n",
    "# in python modulus operator gives remainder\n",
    "13%2==0"
   ]
  },
  {
   "cell_type": "code",
   "execution_count": 10,
   "id": "f37f02fc",
   "metadata": {},
   "outputs": [
    {
     "name": "stdout",
     "output_type": "stream",
     "text": [
      "enter the number:41\n",
      "the 41 is odd number\n"
     ]
    }
   ],
   "source": [
    "num1=eval(input(\"enter the number:\"))        # 41\n",
    "if(num1%2==0):                               # 41%2==0 false : no p\n",
    "    print(\"the {} is even number\".format(num1))\n",
    "else:                                        # else block\n",
    "    print(\"the {} is odd number\".format(num1))"
   ]
  },
  {
   "cell_type": "code",
   "execution_count": 11,
   "id": "18f495af",
   "metadata": {},
   "outputs": [
    {
     "name": "stdout",
     "output_type": "stream",
     "text": [
      "enter the number:python\n",
      "name 'python' is not defined\n"
     ]
    }
   ],
   "source": [
    "try:\n",
    "    num1=eval(input(\"enter the number:\"))        \n",
    "    if(num1%2==0):                              \n",
    "        print(\"the {} is even number\".format(num1))\n",
    "    else:                                        \n",
    "        print(\"the {} is odd number\".format(num1))\n",
    "except Exception as e:\n",
    "    print(e)"
   ]
  },
  {
   "cell_type": "code",
   "execution_count": 12,
   "id": "851980c3",
   "metadata": {},
   "outputs": [
    {
     "name": "stdout",
     "output_type": "stream",
     "text": [
      "enter the number:40\n",
      "the 40 is even number\n"
     ]
    }
   ],
   "source": [
    "num1=eval(input(\"enter the number:\"))        \n",
    "if(num1%2==0):                               \n",
    "    print(\"the {} is even number\".format(num1))\n",
    "else:                                     \n",
    "    print(\"the {} is odd number\".format(num1))"
   ]
  },
  {
   "cell_type": "code",
   "execution_count": 13,
   "id": "365fd1ea",
   "metadata": {},
   "outputs": [
    {
     "name": "stdout",
     "output_type": "stream",
     "text": [
      "the 4 is even number\n"
     ]
    }
   ],
   "source": [
    "# WAP get a random number between 1 to 50\n",
    "# and check it is an even number or odd number\n",
    "import random\n",
    "num1=random.randint(1,40)\n",
    "if(num1%2!=0):\n",
    "    print(\"the {} is odd number\".format(num1))\n",
    "else:\n",
    "    print(\"the {} is even number\".format(num1))"
   ]
  },
  {
   "cell_type": "code",
   "execution_count": 14,
   "id": "cb3246de",
   "metadata": {},
   "outputs": [
    {
     "name": "stdout",
     "output_type": "stream",
     "text": [
      "the 30 is even number\n"
     ]
    }
   ],
   "source": [
    "import random\n",
    "try:\n",
    "    num1=random.randint(1,40)\n",
    "    if(num1%2!=0):\n",
    "        print(\"the {} is odd number\".format(num1))\n",
    "    else:\n",
    "        print(\"the {} is even number\".format(num1))\n",
    "except Exception as e:\n",
    "    print(e)"
   ]
  },
  {
   "cell_type": "code",
   "execution_count": 15,
   "id": "3ddebc27",
   "metadata": {},
   "outputs": [
    {
     "name": "stdout",
     "output_type": "stream",
     "text": [
      "the 28 is even number\n"
     ]
    }
   ],
   "source": [
    "try:\n",
    "    num1=random.randint(1,40)\n",
    "    if(num1%2!=0):\n",
    "        print(\"the {} is odd number\".format(num1))\n",
    "    else:\n",
    "        print(\"the {} is even number\".format(num1))\n",
    "except Exception as e:\n",
    "    print(e)"
   ]
  },
  {
   "cell_type": "code",
   "execution_count": 16,
   "id": "f8a4c142",
   "metadata": {},
   "outputs": [
    {
     "name": "stdout",
     "output_type": "stream",
     "text": [
      "you won because 15 is between 10 and 99.\n"
     ]
    }
   ],
   "source": [
    "# WAP get a random number between 1 to 200\n",
    "# print you won,if number between 10 to 99:num>=10 and num<99\n",
    "# otherwise print you lost\n",
    "\n",
    "import random\n",
    "try:\n",
    "    num=random.randint(1,200)\n",
    "    if(num>=10 and num<=99):\n",
    "        print(\"you won because {} is between 10 and 99.\".format(num))\n",
    "    else:\n",
    "        print(\"you lost because {} is not between 10 to 99.\".format(num))\n",
    "except Exception as err:\n",
    "    print(err)"
   ]
  },
  {
   "cell_type": "code",
   "execution_count": 17,
   "id": "28d1c580",
   "metadata": {},
   "outputs": [
    {
     "name": "stdout",
     "output_type": "stream",
     "text": [
      "you lost because 129 is not between 10 to 99.\n"
     ]
    }
   ],
   "source": [
    "import random\n",
    "try:\n",
    "    num=random.randint(1,200)\n",
    "    if(10<num<99):\n",
    "        print(\"you won because {} is between 10 and 99.\".format(num))\n",
    "    else:\n",
    "        print(\"you lost because {} is not between 10 to 99.\".format(num))\n",
    "except Exception as err:\n",
    "    print(err)"
   ]
  },
  {
   "cell_type": "code",
   "execution_count": 18,
   "id": "df5fbfdd",
   "metadata": {},
   "outputs": [
    {
     "data": {
      "text/plain": [
       "False"
      ]
     },
     "execution_count": 18,
     "metadata": {},
     "output_type": "execute_result"
    }
   ],
   "source": [
    "10<170<99"
   ]
  },
  {
   "cell_type": "code",
   "execution_count": 19,
   "id": "14001740",
   "metadata": {},
   "outputs": [
    {
     "name": "stdout",
     "output_type": "stream",
     "text": [
      "enter a number:14\n",
      "it is a positive number\n"
     ]
    }
   ],
   "source": [
    "# WAP ask the user enter a number\n",
    "# if the number >=0 print it is a positive number\n",
    "# otherwise print it is a negative number\n",
    "\n",
    "num=eval(input(\"enter a number:\"))\n",
    "if num>=0:\n",
    "    print(\"it is a positive number\")\n",
    "else:\n",
    "    print(\"it is a negative number \")"
   ]
  },
  {
   "cell_type": "code",
   "execution_count": null,
   "id": "1f4b3e7a",
   "metadata": {},
   "outputs": [],
   "source": [
    "# con-1: >0 ==== pos        if <cond>:\n",
    "# con-2: <0 ==== neg        elif <con>\n",
    "# con-3: =0 ==== zero       else:\n",
    "# two conditions: if-else\n",
    "# > two condition: if-elif-else"
   ]
  },
  {
   "cell_type": "code",
   "execution_count": 20,
   "id": "83b467b4",
   "metadata": {},
   "outputs": [
    {
     "name": "stdout",
     "output_type": "stream",
     "text": [
      "enter a number:-41\n",
      "the given number -41 is negative\n"
     ]
    }
   ],
   "source": [
    "num2=eval(input(\"enter a number:\"))\n",
    "if num2>0:        # fail\n",
    "    print(\"the given number {} is positive\".format(num2))\n",
    "elif num2<0:      # true : stop\n",
    "    print(\"the given number {} is negative\".format(num2))\n",
    "else:             # else will not execute\n",
    "    print(\"the given number {} is zero \".format(num2))"
   ]
  },
  {
   "cell_type": "code",
   "execution_count": 21,
   "id": "9ce150f1",
   "metadata": {},
   "outputs": [
    {
     "name": "stdout",
     "output_type": "stream",
     "text": [
      "enter your percentage:90\n",
      "A Grade\n"
     ]
    }
   ],
   "source": [
    "# WAP ask the user enter percentage of marks\n",
    "# if per>90 print A\n",
    "# if per between 70 to 90 print B\n",
    "# if per between 50 to 70 print C\n",
    "# otherwise print D\n",
    "# if-elif-elif-else\n",
    "\n",
    "per=eval(input(\"enter your percentage:\"))\n",
    "if per>=90:\n",
    "    print(\"A Grade\")\n",
    "elif 70<per<90:\n",
    "    print(\"B Grade\")\n",
    "elif 50<per<70:\n",
    "    print(\"C Grade\")\n",
    "else:\n",
    "    print(\"D Grade\")"
   ]
  },
  {
   "cell_type": "code",
   "execution_count": 22,
   "id": "c065236f",
   "metadata": {},
   "outputs": [
    {
     "name": "stdout",
     "output_type": "stream",
     "text": [
      "enter your percentage:41\n",
      "D Grade\n"
     ]
    }
   ],
   "source": [
    "per=eval(input(\"enter your percentage:\"))\n",
    "if per>=90:\n",
    "    print(\"A Grade\")\n",
    "elif per>=70:\n",
    "    print(\"B Grade\")\n",
    "elif per>=50:\n",
    "    print(\"C Grade\")\n",
    "else:\n",
    "    print(\"D Grade\")"
   ]
  },
  {
   "cell_type": "code",
   "execution_count": 23,
   "id": "9f7624bb",
   "metadata": {},
   "outputs": [
    {
     "name": "stdout",
     "output_type": "stream",
     "text": [
      "enter your age:21\n",
      "young\n"
     ]
    }
   ],
   "source": [
    "# wap ask the user enter age\n",
    "# if age > 60 print (SC)\n",
    "# if age between 45 to 60 (aged)\n",
    "# if age between 30 to 45 (MA)\n",
    "# if age between 20 to 30 (young)\n",
    "# if age between 13 to 20 (teenage)\n",
    "# otherwise child\n",
    "# if-elif-elif-elif-elif-else\n",
    "\n",
    "age=eval(input(\"enter your age:\"))\n",
    "if age>=100:\n",
    "    print(\"Not possible\")\n",
    "elif age>=60:\n",
    "    print(\"SC\")\n",
    "elif age>=45:\n",
    "    print(\"aged\")\n",
    "elif age>=30:\n",
    "    print(\"MA\")\n",
    "elif age>=20:\n",
    "    print(\"young\")\n",
    "elif age>=13:\n",
    "    print(\"teenage\")\n",
    "else:\n",
    "    print(\"child\")"
   ]
  },
  {
   "cell_type": "code",
   "execution_count": 2,
   "id": "9d7462d3",
   "metadata": {},
   "outputs": [
    {
     "name": "stdout",
     "output_type": "stream",
     "text": [
      "enter num1:14\n",
      "enter num2:0\n"
     ]
    },
    {
     "ename": "ZeroDivisionError",
     "evalue": "division by zero",
     "output_type": "error",
     "traceback": [
      "\u001b[1;31m---------------------------------------------------------------------------\u001b[0m",
      "\u001b[1;31mZeroDivisionError\u001b[0m                         Traceback (most recent call last)",
      "Cell \u001b[1;32mIn[2], line 3\u001b[0m\n\u001b[0;32m      1\u001b[0m num1\u001b[38;5;241m=\u001b[39m\u001b[38;5;28meval\u001b[39m(\u001b[38;5;28minput\u001b[39m(\u001b[38;5;124m'\u001b[39m\u001b[38;5;124menter num1:\u001b[39m\u001b[38;5;124m'\u001b[39m))\n\u001b[0;32m      2\u001b[0m num2\u001b[38;5;241m=\u001b[39m\u001b[38;5;28meval\u001b[39m(\u001b[38;5;28minput\u001b[39m(\u001b[38;5;124m'\u001b[39m\u001b[38;5;124menter num2:\u001b[39m\u001b[38;5;124m'\u001b[39m))\n\u001b[1;32m----> 3\u001b[0m num1\u001b[38;5;241m/\u001b[39mnum2\n",
      "\u001b[1;31mZeroDivisionError\u001b[0m: division by zero"
     ]
    }
   ],
   "source": [
    "num1=eval(input('enter num1:'))\n",
    "num2=eval(input('enter num2:'))\n",
    "num1/num2"
   ]
  },
  {
   "cell_type": "code",
   "execution_count": 5,
   "id": "ab73b085",
   "metadata": {},
   "outputs": [
    {
     "name": "stdout",
     "output_type": "stream",
     "text": [
      "enter num1:11\n",
      "enter num2:14\n",
      "0.7857142857142857\n"
     ]
    }
   ],
   "source": [
    "try:\n",
    "    num1=eval(input('enter num1:'))         # 1 good\n",
    "    num2=eval(input('enter num2:'))         # 2 good\n",
    "    print(num1/num2)                        # 3 good\n",
    "except Exception as e:\n",
    "    print('hello')\n",
    "    print(e)                                # error will capture here"
   ]
  },
  {
   "cell_type": "code",
   "execution_count": 1,
   "id": "bddb309a",
   "metadata": {},
   "outputs": [
    {
     "name": "stdout",
     "output_type": "stream",
     "text": [
      "enter distance in km4\n",
      "the charge is 40rs\n"
     ]
    }
   ],
   "source": [
    "# wap ask the user enter distance in km\n",
    "# if distance is more than 10km:print charge is 100rs\n",
    "# if distance is between 7 to 10km:print charge is 70rs\n",
    "# if distance is between 4 to 7km:print charge is 40rs\n",
    "# otherwise print charge is 30rs\n",
    "\n",
    "# total 4: if-elif-elif-else\n",
    "# step-1:\n",
    "\n",
    "distance=eval(input(\"enter distance in km\"))\n",
    "if distance>=10:\n",
    "    print(\"the charge is 100rs\")\n",
    "elif distance>=7:\n",
    "    print(\"the charge is 70rs\")\n",
    "elif distance>=4:\n",
    "    print(\"the charge is 40rs\")\n",
    "else:\n",
    "    print(\"the charge is 30rs\")"
   ]
  },
  {
   "cell_type": "code",
   "execution_count": 2,
   "id": "bb28c00e",
   "metadata": {},
   "outputs": [
    {
     "name": "stdout",
     "output_type": "stream",
     "text": [
      "enter salary:410000\n",
      "enter tax percentage:2.5\n",
      "amount of tax paid: 10250.0\n"
     ]
    }
   ],
   "source": [
    "# WAP ask the user enter salary\n",
    "# if salary greater than 10laks:\n",
    "#    ask the user enter tax percentage:10%\n",
    "#    print:the amount of tax paid:(salary*tax_per)/100\n",
    "# if salary between 7laks to 10laks\n",
    "#    ask the user enter tax percentage:5%\n",
    "#    print the amount of tax paid\n",
    "# if salary between 4laks to 7laks\n",
    "#    ask the user enter tax percentage:2.5%\n",
    "#    print the amount of tax paid\n",
    "# otherwise:print('no tax required')\n",
    "# if-elif-elif-else\n",
    "\n",
    "salary=eval(input(\"enter salary:\"))\n",
    "if salary>=1000000:\n",
    "    tax_per=eval(input(\"enter tax percentage:\"))\n",
    "    print(\"amount of tax paid:\",(salary*tax_per)/100)\n",
    "elif salary>=700000:\n",
    "    tax_per=eval(input(\"enter tax percentage:\"))\n",
    "    print(\"amount of tax paid:\",(salary*tax_per)/100)\n",
    "elif salary>=400000:\n",
    "    tax_per=eval(input(\"enter tax percentage:\"))\n",
    "    print(\"amount of tax paid:\",(salary*tax_per)/100)\n",
    "else:\n",
    "    print(\"no tax is required\")"
   ]
  },
  {
   "cell_type": "code",
   "execution_count": 3,
   "id": "bc92f8bd",
   "metadata": {},
   "outputs": [
    {
     "name": "stdout",
     "output_type": "stream",
     "text": [
      "enter which operation want to perform:div\n",
      "enter a num1:44\n",
      "enter a num2:0\n",
      "provide suitable operation\n"
     ]
    }
   ],
   "source": [
    "# WAP ask the user enter which operation you need to perform\n",
    "#    operations are : addition/mul/sub/div : input()\n",
    "# ask the user enter a number1=eval(input())\n",
    "# ask the user enter a number2=eval(input())\n",
    "# if the operation equal to addition\n",
    "#    print(\"we are doing addition operation\")\n",
    "#    print(\"the addition of num1 and num2 is\")\n",
    "# if the operation equal to multiplication\n",
    "#    print(\"we are doing multiplication operation\")\n",
    "#    print(\"the multiplication of num1 and num2 is\")\n",
    "# if the operation equal to subtraction\n",
    "#    print(\"we are doing subtraction operation\")\n",
    "#    print(\"the subtraction of num1 and num2 is\")\n",
    "# if the operation equal to division\n",
    "#    print(\"we are doing division operation\")\n",
    "#    print(\"the division of num1 and num2 is\")\n",
    "# else:\n",
    "#    print(\"provide suitable operation\")\n",
    "# if-elif-elif-elif-else\n",
    "\n",
    "try:\n",
    "    operation=input(\"enter which operation want to perform:\")\n",
    "    num1=eval(input(\"enter a num1:\"))\n",
    "    num2=eval(input(\"enter a num2:\"))\n",
    "    if operation=='addition':\n",
    "        print(\"we are performing addition operation\")\n",
    "        print(\"the addition of {} and {} is {}\".format(num1,num2,num1+num2))\n",
    "    if operation=='subtraction':\n",
    "        print(\"we are performing subtraction operation\")\n",
    "        print(\"the subtraction of {} and {} is {}\".format(num1,num2,num1-num2))\n",
    "    if operation=='multiplication':\n",
    "        print(\"we are performing multiplication operation\")\n",
    "        print(\"the multiplication of {} and {} is {}\".format(num1,num2,num1*num2))\n",
    "    if operation=='division':\n",
    "        print(\"we are performing division operation\")\n",
    "        print(\"the division of {} and {} is {}\".format(num1,num2,num1/num2))\n",
    "    else:\n",
    "        print(\"provide suitable operation\")\n",
    "except Exception as e:\n",
    "    print(e)"
   ]
  },
  {
   "cell_type": "code",
   "execution_count": 20,
   "id": "4a477516",
   "metadata": {},
   "outputs": [
    {
     "name": "stdout",
     "output_type": "stream",
     "text": [
      "Which operation you want perform addition, multiplication, subtraction,divisionmultiplication\n",
      "enter 1st number: 4\n",
      "enter 2nd number: 14\n",
      "we're performing multiplication\n",
      "the multiplication of 4 and 14 is 56\n"
     ]
    }
   ],
   "source": [
    "\n",
    "op=input(\"Which operation you want perform addition, multiplication, subtraction,division\")\n",
    "no1=eval(input(\"enter 1st number: \"))\n",
    "no2=eval(input(\"enter 2nd number: \"))\n",
    "if op==\"addition\":\n",
    "    print(\"we're performing addition\")\n",
    "    print(\"the addition of {} and {} is {}\".format(no1,no2,(no1+no2)))\n",
    "elif op==\"multiplication\":\n",
    "    print(\"we're performing multiplication\")\n",
    "    print(\"the multiplication of {} and {} is {}\".format(no1,no2,(no1*no2)))\n",
    "elif op==\"subtraction\":\n",
    "    print(\"we're performing subtraction\")\n",
    "    print(\"the subtraction of {} and {} is {}\".format(no1,no2,(no1-no2)))\n",
    "elif op==\"division\":\n",
    "    print(\"we're performing division\")\n",
    "    print(\"the division of {} and {} is {}\".format(no1,no2,(no1/no2)))\n",
    "else:\n",
    "    print(\"provide suitable operation\")\n",
    "    "
   ]
  },
  {
   "cell_type": "code",
   "execution_count": 21,
   "id": "8e85fb63",
   "metadata": {},
   "outputs": [
    {
     "ename": "SyntaxError",
     "evalue": "invalid syntax (3322436692.py, line 7)",
     "output_type": "error",
     "traceback": [
      "\u001b[1;36m  Cell \u001b[1;32mIn[21], line 7\u001b[1;36m\u001b[0m\n\u001b[1;33m    elif op==\"multiplication\":\u001b[0m\n\u001b[1;37m    ^\u001b[0m\n\u001b[1;31mSyntaxError\u001b[0m\u001b[1;31m:\u001b[0m invalid syntax\n"
     ]
    }
   ],
   "source": [
    "op=input(\"Which operation you want perform addition, multiplication, subtraction,division\")\n",
    "no1=eval(input(\"enter 1st number: \"))\n",
    "no2=eval(input(\"enter 2nd number: \"))\n",
    "if op==\"addition\":\n",
    "    print(\"we're performing addition\")\n",
    "    print(\"the addition of {} and {} is:\".format(no1,no2,(no1+no2))\n",
    "elif op==\"multiplication\":\n",
    "    print(\"we're performing multiplication\")\n",
    "    print(\"the multiplication of {} and {} is:\".format(no1,no2,(no1*no2))\n",
    "elif op==\"subtraction\":\n",
    "    print(\"we're performing subtraction\")\n",
    "    print(\"the subtraction of {} and {} is:\".format(no1,no2,(no1-no2))\n",
    "elif op==\"division\":\n",
    "    print(\"we're performing division\")\n",
    "    print(\"the division of {} and {} is:\".format(no1,no2,(no1/no2))\n",
    "else:\n",
    "    print(\"provide suitable operation\")"
   ]
  },
  {
   "cell_type": "code",
   "execution_count": 22,
   "id": "ea02876b",
   "metadata": {},
   "outputs": [
    {
     "name": "stdout",
     "output_type": "stream",
     "text": [
      "if you want to perform addition operation,enter + symbol\n",
      "if you want to perform subtraction operation,enter - symbol\n",
      "if you want to perform multiplication operation,enter * symbol\n",
      "if you want to perform division operation,enter / symbol\n",
      "enter which operation want to perform:+\n",
      "enter a num1:14\n",
      "enter a num2:40\n",
      "we are performing addition operation\n",
      "the addition of 14 and 40 is 54\n"
     ]
    }
   ],
   "source": [
    "try:\n",
    "    print(\"if you want to perform addition operation,enter + symbol\")\n",
    "    print(\"if you want to perform subtraction operation,enter - symbol\")\n",
    "    print(\"if you want to perform multiplication operation,enter * symbol\")\n",
    "    print(\"if you want to perform division operation,enter / symbol\")\n",
    "    operation=input(\"enter which operation want to perform:\")\n",
    "    num1=eval(input(\"enter a num1:\"))\n",
    "    num2=eval(input(\"enter a num2:\"))\n",
    "    if operation=='+':\n",
    "        print(\"we are performing addition operation\")\n",
    "        print(\"the addition of {} and {} is {}\".format(num1,num2,num1+num2))\n",
    "    elif operation=='-':\n",
    "        print(\"we are performing subtraction operation\")\n",
    "        print(\"the subtraction of {} and {} is {}\".format(num1,num2,num1-num2))\n",
    "    elif operation=='*':\n",
    "        print(\"we are performing multiplication operation\")\n",
    "        print(\"the multiplication of {} and {} is {}\".format(num1,num2,num1*num2))\n",
    "    elif operation=='/':\n",
    "        print(\"we are performing division operation\")\n",
    "        print(\"the division of {} and {} is {}\".format(num1,num2,num1/num2))\n",
    "    else:\n",
    "        print(\"provide suitable operation\")\n",
    "except Exception as e:\n",
    "    print(e)"
   ]
  },
  {
   "cell_type": "code",
   "execution_count": 24,
   "id": "f8828ddd",
   "metadata": {},
   "outputs": [
    {
     "name": "stdout",
     "output_type": "stream",
     "text": [
      "if you want to perform addition operation,enter 1\n",
      "if you want to perform sub operation,enter 2\n",
      "if you want to perform mul operation,enter 3\n",
      "if you want to perform div operation,enter 4\n",
      "enter which operation want to perform:2\n",
      "enter a num1:14\n",
      "enter a num2:11\n",
      "we are performing sub operation\n",
      "the sub of 14 and 11 is 3\n"
     ]
    }
   ],
   "source": [
    "import time\n",
    "try:\n",
    "    print(\"if you want to perform addition operation,enter 1\")\n",
    "    print(\"if you want to perform sub operation,enter 2\")\n",
    "    print(\"if you want to perform mul operation,enter 3\")\n",
    "    print(\"if you want to perform div operation,enter 4\")\n",
    "    time.sleep(3)\n",
    "    operation=input(\"enter which operation want to perform:\")\n",
    "    num1=eval(input(\"enter a num1:\"))\n",
    "    num2=eval(input(\"enter a num2:\"))\n",
    "    if operation=='1':\n",
    "        print(\"we are performing addition operation\")\n",
    "        print(\"the addition of {} and {} is {}\".format(num1,num2,num1+num2))\n",
    "    elif operation=='2':\n",
    "        print(\"we are performing sub operation\")\n",
    "        print(\"the sub of {} and {} is {}\".format(num1,num2,num1-num2))\n",
    "    elif operation=='3':\n",
    "        print(\"we are performing mul operation\")\n",
    "        print(\"the mul of {} and {} is {}\".format(num1,num2,num1*num2))\n",
    "    elif operation=='4':\n",
    "        print(\"we are performing div operation\")\n",
    "        print(\"the div of {} and {} is {}\".format(num1,num2,num1/num2))\n",
    "    else:\n",
    "        print(\"provide suitable operation\")\n",
    "except Exception as e:\n",
    "    print(e)"
   ]
  },
  {
   "cell_type": "markdown",
   "id": "ebb76bf4",
   "metadata": {},
   "source": [
    "# nested if else\n"
   ]
  },
  {
   "cell_type": "code",
   "execution_count": 2,
   "id": "77505ba6",
   "metadata": {},
   "outputs": [
    {
     "name": "stdout",
     "output_type": "stream",
     "text": [
      "enter a number:-14\n",
      "it is a negative number\n"
     ]
    }
   ],
   "source": [
    "# wap ask the user enter a number\n",
    "# if the number greater than zero:\n",
    "#    if the number==0:\n",
    "#        print('it is a zero number')\n",
    "#    else:\n",
    "#        print('it is pos number')\n",
    "# else:\n",
    "#    print('it is a negative number')\n",
    "\n",
    "number=eval(input(\"enter a number:\"))\n",
    "if number>=0:\n",
    "    if number==0:\n",
    "        print(\"it is a zero number\")\n",
    "    else:\n",
    "        print(\"it is a positive number\")\n",
    "else:\n",
    "    print(\"it is a negative number\")"
   ]
  },
  {
   "cell_type": "code",
   "execution_count": 4,
   "id": "a9160d3b",
   "metadata": {},
   "outputs": [
    {
     "name": "stdout",
     "output_type": "stream",
     "text": [
      "Enter gender either male or female:male\n",
      "Enter your age:140\n",
      "CS\n",
      "gunnis book\n"
     ]
    }
   ],
   "source": [
    "# WAP ask the user enter gender either male or female\n",
    "# if gender equal to male\n",
    "#    ask the user enter age\n",
    "#    if age>60:print(cs)\n",
    "#    if age between 30 to 60 print(middle aged man)\n",
    "#    if age between 20 to 30:print(young boy)\n",
    "#    if age between 13 to 20:print(teenage boy)\n",
    "#    otherwise:print('boy')\n",
    "# else:\n",
    "#    ask the user enter age\n",
    "#    if age>60:print(cs)\n",
    "#    if age between 30 to 60 print(middle aged woman)\n",
    "#    if age between 20 to 30:print(young girl)\n",
    "#    if age between 13 to 20:print(teenage girl)\n",
    "#    otherwise:print('girl')\n",
    "\n",
    "try:\n",
    "    gender=input(\"Enter gender either male or female:\")\n",
    "    if gender==\"male\":\n",
    "        age=eval(input(\"Enter your age:\"))\n",
    "        if age>60:\n",
    "            print(\"CS\")\n",
    "            if age>100:\n",
    "                print('gunnis book')\n",
    "        elif age>=30:\n",
    "            print(\"middle aged man\")\n",
    "        elif age>=20:\n",
    "            print(\"young boy\")\n",
    "        elif age>=13:\n",
    "            print(\"teenage boy\")\n",
    "        else:\n",
    "            print(\"boy\")\n",
    "    elif gender==\"female\":\n",
    "        age=eval(input(\"Enter your age:\"))\n",
    "        if age>60:\n",
    "            print(\"CS\")\n",
    "        elif age>=30:\n",
    "            print(\"middle aged woman\")\n",
    "        elif age>=20:\n",
    "            print(\"young girl\")\n",
    "        elif age>=13:\n",
    "            print(\"teenage girl\")\n",
    "        else:\n",
    "            print(\"girl\")\n",
    "    else:\n",
    "        print(\"provide proper gender\")\n",
    "except Exception as e:\n",
    "    print(e)"
   ]
  },
  {
   "cell_type": "code",
   "execution_count": null,
   "id": "8487850c",
   "metadata": {},
   "outputs": [],
   "source": []
  }
 ],
 "metadata": {
  "kernelspec": {
   "display_name": "Python 3 (ipykernel)",
   "language": "python",
   "name": "python3"
  },
  "language_info": {
   "codemirror_mode": {
    "name": "ipython",
    "version": 3
   },
   "file_extension": ".py",
   "mimetype": "text/x-python",
   "name": "python",
   "nbconvert_exporter": "python",
   "pygments_lexer": "ipython3",
   "version": "3.11.5"
  }
 },
 "nbformat": 4,
 "nbformat_minor": 5
}
